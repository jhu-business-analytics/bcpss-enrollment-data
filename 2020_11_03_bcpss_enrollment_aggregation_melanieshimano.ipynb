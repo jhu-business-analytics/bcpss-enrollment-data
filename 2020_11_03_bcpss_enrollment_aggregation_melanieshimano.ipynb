{
  "nbformat": 4,
  "nbformat_minor": 0,
  "metadata": {
    "colab": {
      "name": "2020-11-03-bcpss-enrollment-aggregation-melanieshimano.ipynb",
      "provenance": [],
      "collapsed_sections": [],
      "authorship_tag": "ABX9TyNsy4XflLQZrSUxfPCtI50a",
      "include_colab_link": true
    },
    "kernelspec": {
      "name": "python3",
      "display_name": "Python 3"
    }
  },
  "cells": [
    {
      "cell_type": "markdown",
      "metadata": {
        "id": "view-in-github",
        "colab_type": "text"
      },
      "source": [
        "<a href=\"https://colab.research.google.com/github/melanieshimano/bcpss-enrollment-data/blob/main/2020_11_03_bcpss_enrollment_aggregation_melanieshimano.ipynb\" target=\"_parent\"><img src=\"https://colab.research.google.com/assets/colab-badge.svg\" alt=\"Open In Colab\"/></a>"
      ]
    },
    {
      "cell_type": "markdown",
      "metadata": {
        "id": "DOL3SNnXBuF5"
      },
      "source": [
        "# Maryland Public School Enrollment, 2019-2020"
      ]
    },
    {
      "cell_type": "markdown",
      "metadata": {
        "id": "WNA3wBOlBygM"
      },
      "source": [
        "Here we're going to dive a bit deeper into the Maryland State public schools dataset to see how enrollment had changed from 2019-2020 by different grade levels and types of schools. \n",
        "\n"
      ]
    },
    {
      "cell_type": "markdown",
      "metadata": {
        "id": "1JVsm-nTCQAI"
      },
      "source": [
        "# import libraries"
      ]
    },
    {
      "cell_type": "code",
      "metadata": {
        "id": "US_0A9wyBnZ8"
      },
      "source": [
        "# for data analysis\n",
        "import pandas as pd\n",
        "import numpy as np\n",
        "\n",
        "# to help export files\n",
        "from google.colab import files"
      ],
      "execution_count": 141,
      "outputs": []
    },
    {
      "cell_type": "markdown",
      "metadata": {
        "id": "VV6LxtU8Cjhn"
      },
      "source": [
        "# import data"
      ]
    },
    {
      "cell_type": "code",
      "metadata": {
        "id": "x8Uu2kmEChKm"
      },
      "source": [
        "# import data \n",
        "\n",
        "#2019 enrollment data\n",
        "df_19_enroll = pd.read_csv(\"https://raw.githubusercontent.com/jhu-business-analytics/bcpss-enrollment-data/main/original_data_files/Enrollment_2019.csv\")\n",
        "\n",
        "# 2020 enrollment data\n",
        "df_20_enroll = pd.read_csv(\"https://raw.githubusercontent.com/jhu-business-analytics/bcpss-enrollment-data/main/original_data_files/Enrollment_By_Grade_2020.csv\")\n",
        "\n",
        "#2019 attendance data\n",
        "df_19_attend = pd.read_csv(\"https://raw.githubusercontent.com/jhu-business-analytics/bcpss-enrollment-data/main/original_data_files/Attendance_2019.csv\")"
      ],
      "execution_count": 142,
      "outputs": []
    },
    {
      "cell_type": "code",
      "metadata": {
        "id": "aXSeFkkVCwEw",
        "outputId": "29f3dbc4-6926-4574-dfde-65fbbf5cdc21",
        "colab": {
          "base_uri": "https://localhost:8080/",
          "height": 204
        }
      },
      "source": [
        "# preview 2019 enrollment\n",
        "df_19_enroll.head()"
      ],
      "execution_count": 143,
      "outputs": [
        {
          "output_type": "execute_result",
          "data": {
            "text/html": [
              "<div>\n",
              "<style scoped>\n",
              "    .dataframe tbody tr th:only-of-type {\n",
              "        vertical-align: middle;\n",
              "    }\n",
              "\n",
              "    .dataframe tbody tr th {\n",
              "        vertical-align: top;\n",
              "    }\n",
              "\n",
              "    .dataframe thead th {\n",
              "        text-align: right;\n",
              "    }\n",
              "</style>\n",
              "<table border=\"1\" class=\"dataframe\">\n",
              "  <thead>\n",
              "    <tr style=\"text-align: right;\">\n",
              "      <th></th>\n",
              "      <th>Academic Year</th>\n",
              "      <th>LSS Number</th>\n",
              "      <th>LSS Name</th>\n",
              "      <th>School Number</th>\n",
              "      <th>School Name</th>\n",
              "      <th>Grade</th>\n",
              "      <th>Enrolled Count</th>\n",
              "      <th>Create Date</th>\n",
              "    </tr>\n",
              "  </thead>\n",
              "  <tbody>\n",
              "    <tr>\n",
              "      <th>0</th>\n",
              "      <td>2019</td>\n",
              "      <td>01</td>\n",
              "      <td>Allegany</td>\n",
              "      <td>0301</td>\n",
              "      <td>Flintstone Elementary</td>\n",
              "      <td>Prekindergarten</td>\n",
              "      <td>13</td>\n",
              "      <td>20190903</td>\n",
              "    </tr>\n",
              "    <tr>\n",
              "      <th>1</th>\n",
              "      <td>2019</td>\n",
              "      <td>01</td>\n",
              "      <td>Allegany</td>\n",
              "      <td>0301</td>\n",
              "      <td>Flintstone Elementary</td>\n",
              "      <td>Kindergarten</td>\n",
              "      <td>31</td>\n",
              "      <td>20190903</td>\n",
              "    </tr>\n",
              "    <tr>\n",
              "      <th>2</th>\n",
              "      <td>2019</td>\n",
              "      <td>01</td>\n",
              "      <td>Allegany</td>\n",
              "      <td>0301</td>\n",
              "      <td>Flintstone Elementary</td>\n",
              "      <td>Grade 1</td>\n",
              "      <td>36</td>\n",
              "      <td>20190903</td>\n",
              "    </tr>\n",
              "    <tr>\n",
              "      <th>3</th>\n",
              "      <td>2019</td>\n",
              "      <td>01</td>\n",
              "      <td>Allegany</td>\n",
              "      <td>0301</td>\n",
              "      <td>Flintstone Elementary</td>\n",
              "      <td>Grade 2</td>\n",
              "      <td>28</td>\n",
              "      <td>20190903</td>\n",
              "    </tr>\n",
              "    <tr>\n",
              "      <th>4</th>\n",
              "      <td>2019</td>\n",
              "      <td>01</td>\n",
              "      <td>Allegany</td>\n",
              "      <td>0301</td>\n",
              "      <td>Flintstone Elementary</td>\n",
              "      <td>Grade 3</td>\n",
              "      <td>40</td>\n",
              "      <td>20190903</td>\n",
              "    </tr>\n",
              "  </tbody>\n",
              "</table>\n",
              "</div>"
            ],
            "text/plain": [
              "   Academic Year LSS Number  ... Enrolled Count Create Date\n",
              "0           2019         01  ...             13    20190903\n",
              "1           2019         01  ...             31    20190903\n",
              "2           2019         01  ...             36    20190903\n",
              "3           2019         01  ...             28    20190903\n",
              "4           2019         01  ...             40    20190903\n",
              "\n",
              "[5 rows x 8 columns]"
            ]
          },
          "metadata": {
            "tags": []
          },
          "execution_count": 143
        }
      ]
    },
    {
      "cell_type": "code",
      "metadata": {
        "id": "y27WgDuIC1Rr",
        "outputId": "7142a276-2eec-4a28-a85e-93f2b0d02815",
        "colab": {
          "base_uri": "https://localhost:8080/"
        }
      },
      "source": [
        "# preview the information type\n",
        "df_19_enroll.info()"
      ],
      "execution_count": 144,
      "outputs": [
        {
          "output_type": "stream",
          "text": [
            "<class 'pandas.core.frame.DataFrame'>\n",
            "RangeIndex: 9781 entries, 0 to 9780\n",
            "Data columns (total 8 columns):\n",
            " #   Column          Non-Null Count  Dtype \n",
            "---  ------          --------------  ----- \n",
            " 0   Academic Year   9781 non-null   int64 \n",
            " 1   LSS Number      9781 non-null   object\n",
            " 2   LSS Name        9781 non-null   object\n",
            " 3   School Number   9781 non-null   object\n",
            " 4   School Name     9781 non-null   object\n",
            " 5   Grade           9781 non-null   object\n",
            " 6   Enrolled Count  9781 non-null   object\n",
            " 7   Create Date     9781 non-null   int64 \n",
            "dtypes: int64(2), object(6)\n",
            "memory usage: 611.4+ KB\n"
          ],
          "name": "stdout"
        }
      ]
    },
    {
      "cell_type": "code",
      "metadata": {
        "id": "jJtRFZNEC98d",
        "outputId": "0e317702-83f3-4039-8c2f-40a279ade3c8",
        "colab": {
          "base_uri": "https://localhost:8080/"
        }
      },
      "source": [
        "# look at the number of unique values in School Number\n",
        "df_19_enroll[\"School Number\"].nunique()"
      ],
      "execution_count": 145,
      "outputs": [
        {
          "output_type": "execute_result",
          "data": {
            "text/plain": [
              "830"
            ]
          },
          "metadata": {
            "tags": []
          },
          "execution_count": 145
        }
      ]
    },
    {
      "cell_type": "code",
      "metadata": {
        "id": "ibZDb0uWDaMv",
        "outputId": "86c5a92a-6ed5-49d6-f988-4711c609ccf8",
        "colab": {
          "base_uri": "https://localhost:8080/"
        }
      },
      "source": [
        "# look at the num of unique school names\n",
        "df_19_enroll[\"School Name\"].nunique()"
      ],
      "execution_count": 146,
      "outputs": [
        {
          "output_type": "execute_result",
          "data": {
            "text/plain": [
              "1395"
            ]
          },
          "metadata": {
            "tags": []
          },
          "execution_count": 146
        }
      ]
    },
    {
      "cell_type": "markdown",
      "metadata": {
        "id": "-rAIeh5XD73V"
      },
      "source": [
        "# Create Unique ID for each school"
      ]
    },
    {
      "cell_type": "code",
      "metadata": {
        "id": "IJx5q_azDhgq"
      },
      "source": [
        "# create unique id by adding lss number and school number\n",
        "df_19_enroll[\"school_id\"] = df_19_enroll[\"LSS Number\"] +  df_19_enroll[\"School Number\"]"
      ],
      "execution_count": 147,
      "outputs": []
    },
    {
      "cell_type": "code",
      "metadata": {
        "id": "5ZrtbExUEW15",
        "outputId": "7ace49d7-db10-43aa-cf4b-a3568e406c89",
        "colab": {
          "base_uri": "https://localhost:8080/",
          "height": 359
        }
      },
      "source": [
        "# preview new col\n",
        "df_19_enroll.head(10)"
      ],
      "execution_count": 148,
      "outputs": [
        {
          "output_type": "execute_result",
          "data": {
            "text/html": [
              "<div>\n",
              "<style scoped>\n",
              "    .dataframe tbody tr th:only-of-type {\n",
              "        vertical-align: middle;\n",
              "    }\n",
              "\n",
              "    .dataframe tbody tr th {\n",
              "        vertical-align: top;\n",
              "    }\n",
              "\n",
              "    .dataframe thead th {\n",
              "        text-align: right;\n",
              "    }\n",
              "</style>\n",
              "<table border=\"1\" class=\"dataframe\">\n",
              "  <thead>\n",
              "    <tr style=\"text-align: right;\">\n",
              "      <th></th>\n",
              "      <th>Academic Year</th>\n",
              "      <th>LSS Number</th>\n",
              "      <th>LSS Name</th>\n",
              "      <th>School Number</th>\n",
              "      <th>School Name</th>\n",
              "      <th>Grade</th>\n",
              "      <th>Enrolled Count</th>\n",
              "      <th>Create Date</th>\n",
              "      <th>school_id</th>\n",
              "    </tr>\n",
              "  </thead>\n",
              "  <tbody>\n",
              "    <tr>\n",
              "      <th>0</th>\n",
              "      <td>2019</td>\n",
              "      <td>01</td>\n",
              "      <td>Allegany</td>\n",
              "      <td>0301</td>\n",
              "      <td>Flintstone Elementary</td>\n",
              "      <td>Prekindergarten</td>\n",
              "      <td>13</td>\n",
              "      <td>20190903</td>\n",
              "      <td>010301</td>\n",
              "    </tr>\n",
              "    <tr>\n",
              "      <th>1</th>\n",
              "      <td>2019</td>\n",
              "      <td>01</td>\n",
              "      <td>Allegany</td>\n",
              "      <td>0301</td>\n",
              "      <td>Flintstone Elementary</td>\n",
              "      <td>Kindergarten</td>\n",
              "      <td>31</td>\n",
              "      <td>20190903</td>\n",
              "      <td>010301</td>\n",
              "    </tr>\n",
              "    <tr>\n",
              "      <th>2</th>\n",
              "      <td>2019</td>\n",
              "      <td>01</td>\n",
              "      <td>Allegany</td>\n",
              "      <td>0301</td>\n",
              "      <td>Flintstone Elementary</td>\n",
              "      <td>Grade 1</td>\n",
              "      <td>36</td>\n",
              "      <td>20190903</td>\n",
              "      <td>010301</td>\n",
              "    </tr>\n",
              "    <tr>\n",
              "      <th>3</th>\n",
              "      <td>2019</td>\n",
              "      <td>01</td>\n",
              "      <td>Allegany</td>\n",
              "      <td>0301</td>\n",
              "      <td>Flintstone Elementary</td>\n",
              "      <td>Grade 2</td>\n",
              "      <td>28</td>\n",
              "      <td>20190903</td>\n",
              "      <td>010301</td>\n",
              "    </tr>\n",
              "    <tr>\n",
              "      <th>4</th>\n",
              "      <td>2019</td>\n",
              "      <td>01</td>\n",
              "      <td>Allegany</td>\n",
              "      <td>0301</td>\n",
              "      <td>Flintstone Elementary</td>\n",
              "      <td>Grade 3</td>\n",
              "      <td>40</td>\n",
              "      <td>20190903</td>\n",
              "      <td>010301</td>\n",
              "    </tr>\n",
              "    <tr>\n",
              "      <th>5</th>\n",
              "      <td>2019</td>\n",
              "      <td>01</td>\n",
              "      <td>Allegany</td>\n",
              "      <td>0301</td>\n",
              "      <td>Flintstone Elementary</td>\n",
              "      <td>Grade 4</td>\n",
              "      <td>38</td>\n",
              "      <td>20190903</td>\n",
              "      <td>010301</td>\n",
              "    </tr>\n",
              "    <tr>\n",
              "      <th>6</th>\n",
              "      <td>2019</td>\n",
              "      <td>01</td>\n",
              "      <td>Allegany</td>\n",
              "      <td>0301</td>\n",
              "      <td>Flintstone Elementary</td>\n",
              "      <td>Grade 5</td>\n",
              "      <td>40</td>\n",
              "      <td>20190903</td>\n",
              "      <td>010301</td>\n",
              "    </tr>\n",
              "    <tr>\n",
              "      <th>7</th>\n",
              "      <td>2019</td>\n",
              "      <td>01</td>\n",
              "      <td>Allegany</td>\n",
              "      <td>0301</td>\n",
              "      <td>Flintstone Elementary</td>\n",
              "      <td>Total Enrollment</td>\n",
              "      <td>226</td>\n",
              "      <td>20190903</td>\n",
              "      <td>010301</td>\n",
              "    </tr>\n",
              "    <tr>\n",
              "      <th>8</th>\n",
              "      <td>2019</td>\n",
              "      <td>01</td>\n",
              "      <td>Allegany</td>\n",
              "      <td>0401</td>\n",
              "      <td>South Penn Elementary</td>\n",
              "      <td>Prekindergarten</td>\n",
              "      <td>76</td>\n",
              "      <td>20190903</td>\n",
              "      <td>010401</td>\n",
              "    </tr>\n",
              "    <tr>\n",
              "      <th>9</th>\n",
              "      <td>2019</td>\n",
              "      <td>01</td>\n",
              "      <td>Allegany</td>\n",
              "      <td>0401</td>\n",
              "      <td>South Penn Elementary</td>\n",
              "      <td>Kindergarten</td>\n",
              "      <td>93</td>\n",
              "      <td>20190903</td>\n",
              "      <td>010401</td>\n",
              "    </tr>\n",
              "  </tbody>\n",
              "</table>\n",
              "</div>"
            ],
            "text/plain": [
              "   Academic Year LSS Number  LSS Name  ... Enrolled Count Create Date school_id\n",
              "0           2019         01  Allegany  ...             13    20190903    010301\n",
              "1           2019         01  Allegany  ...             31    20190903    010301\n",
              "2           2019         01  Allegany  ...             36    20190903    010301\n",
              "3           2019         01  Allegany  ...             28    20190903    010301\n",
              "4           2019         01  Allegany  ...             40    20190903    010301\n",
              "5           2019         01  Allegany  ...             38    20190903    010301\n",
              "6           2019         01  Allegany  ...             40    20190903    010301\n",
              "7           2019         01  Allegany  ...            226    20190903    010301\n",
              "8           2019         01  Allegany  ...             76    20190903    010401\n",
              "9           2019         01  Allegany  ...             93    20190903    010401\n",
              "\n",
              "[10 rows x 9 columns]"
            ]
          },
          "metadata": {
            "tags": []
          },
          "execution_count": 148
        }
      ]
    },
    {
      "cell_type": "code",
      "metadata": {
        "id": "mux2QdRIEjlY",
        "outputId": "a1c8256e-d156-4681-bc2a-4eec75003425",
        "colab": {
          "base_uri": "https://localhost:8080/",
          "height": 204
        }
      },
      "source": [
        "# preview 2020 data\n",
        "df_20_enroll.head()"
      ],
      "execution_count": 149,
      "outputs": [
        {
          "output_type": "execute_result",
          "data": {
            "text/html": [
              "<div>\n",
              "<style scoped>\n",
              "    .dataframe tbody tr th:only-of-type {\n",
              "        vertical-align: middle;\n",
              "    }\n",
              "\n",
              "    .dataframe tbody tr th {\n",
              "        vertical-align: top;\n",
              "    }\n",
              "\n",
              "    .dataframe thead th {\n",
              "        text-align: right;\n",
              "    }\n",
              "</style>\n",
              "<table border=\"1\" class=\"dataframe\">\n",
              "  <thead>\n",
              "    <tr style=\"text-align: right;\">\n",
              "      <th></th>\n",
              "      <th>Year</th>\n",
              "      <th>LSS</th>\n",
              "      <th>LSS Name</th>\n",
              "      <th>School</th>\n",
              "      <th>School Name</th>\n",
              "      <th>Grade</th>\n",
              "      <th>Enrolled Count</th>\n",
              "      <th>Create Date</th>\n",
              "    </tr>\n",
              "  </thead>\n",
              "  <tbody>\n",
              "    <tr>\n",
              "      <th>0</th>\n",
              "      <td>2020</td>\n",
              "      <td>01</td>\n",
              "      <td>Allegany</td>\n",
              "      <td>0301</td>\n",
              "      <td>Flintstone Elementary</td>\n",
              "      <td>Prekindergarten Age 4</td>\n",
              "      <td>19</td>\n",
              "      <td>20200805</td>\n",
              "    </tr>\n",
              "    <tr>\n",
              "      <th>1</th>\n",
              "      <td>2020</td>\n",
              "      <td>01</td>\n",
              "      <td>Allegany</td>\n",
              "      <td>0301</td>\n",
              "      <td>Flintstone Elementary</td>\n",
              "      <td>Kindergarten</td>\n",
              "      <td>28</td>\n",
              "      <td>20200805</td>\n",
              "    </tr>\n",
              "    <tr>\n",
              "      <th>2</th>\n",
              "      <td>2020</td>\n",
              "      <td>01</td>\n",
              "      <td>Allegany</td>\n",
              "      <td>0301</td>\n",
              "      <td>Flintstone Elementary</td>\n",
              "      <td>Grade 1</td>\n",
              "      <td>31</td>\n",
              "      <td>20200805</td>\n",
              "    </tr>\n",
              "    <tr>\n",
              "      <th>3</th>\n",
              "      <td>2020</td>\n",
              "      <td>01</td>\n",
              "      <td>Allegany</td>\n",
              "      <td>0301</td>\n",
              "      <td>Flintstone Elementary</td>\n",
              "      <td>Grade 2</td>\n",
              "      <td>40</td>\n",
              "      <td>20200805</td>\n",
              "    </tr>\n",
              "    <tr>\n",
              "      <th>4</th>\n",
              "      <td>2020</td>\n",
              "      <td>01</td>\n",
              "      <td>Allegany</td>\n",
              "      <td>0301</td>\n",
              "      <td>Flintstone Elementary</td>\n",
              "      <td>Grade 3</td>\n",
              "      <td>30</td>\n",
              "      <td>20200805</td>\n",
              "    </tr>\n",
              "  </tbody>\n",
              "</table>\n",
              "</div>"
            ],
            "text/plain": [
              "   Year LSS  LSS Name  ...                  Grade Enrolled Count Create Date\n",
              "0  2020  01  Allegany  ...  Prekindergarten Age 4             19    20200805\n",
              "1  2020  01  Allegany  ...           Kindergarten             28    20200805\n",
              "2  2020  01  Allegany  ...                Grade 1             31    20200805\n",
              "3  2020  01  Allegany  ...                Grade 2             40    20200805\n",
              "4  2020  01  Allegany  ...                Grade 3             30    20200805\n",
              "\n",
              "[5 rows x 8 columns]"
            ]
          },
          "metadata": {
            "tags": []
          },
          "execution_count": 149
        }
      ]
    },
    {
      "cell_type": "code",
      "metadata": {
        "id": "stVEVTmkEYyK"
      },
      "source": [
        "# create unique identifier for 2020 enrollment data\n",
        "df_20_enroll[\"school_id\"] = df_20_enroll[\"LSS\"] +  df_20_enroll[\"School\"]"
      ],
      "execution_count": 150,
      "outputs": []
    },
    {
      "cell_type": "code",
      "metadata": {
        "id": "9yqT6-rSEtPa",
        "outputId": "37c129e0-4c4d-4fd5-906c-135e3deeb400",
        "colab": {
          "base_uri": "https://localhost:8080/",
          "height": 359
        }
      },
      "source": [
        "# preview 2020 data\n",
        "df_20_enroll.head(10)"
      ],
      "execution_count": 151,
      "outputs": [
        {
          "output_type": "execute_result",
          "data": {
            "text/html": [
              "<div>\n",
              "<style scoped>\n",
              "    .dataframe tbody tr th:only-of-type {\n",
              "        vertical-align: middle;\n",
              "    }\n",
              "\n",
              "    .dataframe tbody tr th {\n",
              "        vertical-align: top;\n",
              "    }\n",
              "\n",
              "    .dataframe thead th {\n",
              "        text-align: right;\n",
              "    }\n",
              "</style>\n",
              "<table border=\"1\" class=\"dataframe\">\n",
              "  <thead>\n",
              "    <tr style=\"text-align: right;\">\n",
              "      <th></th>\n",
              "      <th>Year</th>\n",
              "      <th>LSS</th>\n",
              "      <th>LSS Name</th>\n",
              "      <th>School</th>\n",
              "      <th>School Name</th>\n",
              "      <th>Grade</th>\n",
              "      <th>Enrolled Count</th>\n",
              "      <th>Create Date</th>\n",
              "      <th>school_id</th>\n",
              "    </tr>\n",
              "  </thead>\n",
              "  <tbody>\n",
              "    <tr>\n",
              "      <th>0</th>\n",
              "      <td>2020</td>\n",
              "      <td>01</td>\n",
              "      <td>Allegany</td>\n",
              "      <td>0301</td>\n",
              "      <td>Flintstone Elementary</td>\n",
              "      <td>Prekindergarten Age 4</td>\n",
              "      <td>19</td>\n",
              "      <td>20200805</td>\n",
              "      <td>010301</td>\n",
              "    </tr>\n",
              "    <tr>\n",
              "      <th>1</th>\n",
              "      <td>2020</td>\n",
              "      <td>01</td>\n",
              "      <td>Allegany</td>\n",
              "      <td>0301</td>\n",
              "      <td>Flintstone Elementary</td>\n",
              "      <td>Kindergarten</td>\n",
              "      <td>28</td>\n",
              "      <td>20200805</td>\n",
              "      <td>010301</td>\n",
              "    </tr>\n",
              "    <tr>\n",
              "      <th>2</th>\n",
              "      <td>2020</td>\n",
              "      <td>01</td>\n",
              "      <td>Allegany</td>\n",
              "      <td>0301</td>\n",
              "      <td>Flintstone Elementary</td>\n",
              "      <td>Grade 1</td>\n",
              "      <td>31</td>\n",
              "      <td>20200805</td>\n",
              "      <td>010301</td>\n",
              "    </tr>\n",
              "    <tr>\n",
              "      <th>3</th>\n",
              "      <td>2020</td>\n",
              "      <td>01</td>\n",
              "      <td>Allegany</td>\n",
              "      <td>0301</td>\n",
              "      <td>Flintstone Elementary</td>\n",
              "      <td>Grade 2</td>\n",
              "      <td>40</td>\n",
              "      <td>20200805</td>\n",
              "      <td>010301</td>\n",
              "    </tr>\n",
              "    <tr>\n",
              "      <th>4</th>\n",
              "      <td>2020</td>\n",
              "      <td>01</td>\n",
              "      <td>Allegany</td>\n",
              "      <td>0301</td>\n",
              "      <td>Flintstone Elementary</td>\n",
              "      <td>Grade 3</td>\n",
              "      <td>30</td>\n",
              "      <td>20200805</td>\n",
              "      <td>010301</td>\n",
              "    </tr>\n",
              "    <tr>\n",
              "      <th>5</th>\n",
              "      <td>2020</td>\n",
              "      <td>01</td>\n",
              "      <td>Allegany</td>\n",
              "      <td>0301</td>\n",
              "      <td>Flintstone Elementary</td>\n",
              "      <td>Grade 4</td>\n",
              "      <td>38</td>\n",
              "      <td>20200805</td>\n",
              "      <td>010301</td>\n",
              "    </tr>\n",
              "    <tr>\n",
              "      <th>6</th>\n",
              "      <td>2020</td>\n",
              "      <td>01</td>\n",
              "      <td>Allegany</td>\n",
              "      <td>0301</td>\n",
              "      <td>Flintstone Elementary</td>\n",
              "      <td>Grade 5</td>\n",
              "      <td>35</td>\n",
              "      <td>20200805</td>\n",
              "      <td>010301</td>\n",
              "    </tr>\n",
              "    <tr>\n",
              "      <th>7</th>\n",
              "      <td>2020</td>\n",
              "      <td>01</td>\n",
              "      <td>Allegany</td>\n",
              "      <td>0301</td>\n",
              "      <td>Flintstone Elementary</td>\n",
              "      <td>All Grades</td>\n",
              "      <td>221</td>\n",
              "      <td>20200805</td>\n",
              "      <td>010301</td>\n",
              "    </tr>\n",
              "    <tr>\n",
              "      <th>8</th>\n",
              "      <td>2020</td>\n",
              "      <td>01</td>\n",
              "      <td>Allegany</td>\n",
              "      <td>0401</td>\n",
              "      <td>South Penn Elementary</td>\n",
              "      <td>Prekindergarten Age 4</td>\n",
              "      <td>97</td>\n",
              "      <td>20200805</td>\n",
              "      <td>010401</td>\n",
              "    </tr>\n",
              "    <tr>\n",
              "      <th>9</th>\n",
              "      <td>2020</td>\n",
              "      <td>01</td>\n",
              "      <td>Allegany</td>\n",
              "      <td>0401</td>\n",
              "      <td>South Penn Elementary</td>\n",
              "      <td>Kindergarten</td>\n",
              "      <td>63</td>\n",
              "      <td>20200805</td>\n",
              "      <td>010401</td>\n",
              "    </tr>\n",
              "  </tbody>\n",
              "</table>\n",
              "</div>"
            ],
            "text/plain": [
              "   Year LSS  LSS Name  ... Enrolled Count Create Date school_id\n",
              "0  2020  01  Allegany  ...             19    20200805    010301\n",
              "1  2020  01  Allegany  ...             28    20200805    010301\n",
              "2  2020  01  Allegany  ...             31    20200805    010301\n",
              "3  2020  01  Allegany  ...             40    20200805    010301\n",
              "4  2020  01  Allegany  ...             30    20200805    010301\n",
              "5  2020  01  Allegany  ...             38    20200805    010301\n",
              "6  2020  01  Allegany  ...             35    20200805    010301\n",
              "7  2020  01  Allegany  ...            221    20200805    010301\n",
              "8  2020  01  Allegany  ...             97    20200805    010401\n",
              "9  2020  01  Allegany  ...             63    20200805    010401\n",
              "\n",
              "[10 rows x 9 columns]"
            ]
          },
          "metadata": {
            "tags": []
          },
          "execution_count": 151
        }
      ]
    },
    {
      "cell_type": "markdown",
      "metadata": {
        "id": "JpnzqYJOGOHI"
      },
      "source": [
        "# Merge 2019 and 2020 data"
      ]
    },
    {
      "cell_type": "markdown",
      "metadata": {
        "id": "j3OutAdUGSZj"
      },
      "source": [
        "## Renaming the column values"
      ]
    },
    {
      "cell_type": "code",
      "metadata": {
        "id": "QJ5InrBeHOtW"
      },
      "source": [
        "# nested numpy where statement to change pre k and all grades\n",
        "#df_20_enroll[\"Grade\"] = np.where(df_20_enroll[\"Grade\"] == \"Prekindergarten Age 4\", \"Prekindergarten\", (np.where(df_20_enroll[\"Grade\"] == \"All Grades\", \"Total Enrollment\", df_20_enroll[\"Grade\"])))"
      ],
      "execution_count": 152,
      "outputs": []
    },
    {
      "cell_type": "code",
      "metadata": {
        "id": "SJklgDlVHujE",
        "outputId": "570a9c4c-d89c-4a1c-f722-9d823eb227e2",
        "colab": {
          "base_uri": "https://localhost:8080/",
          "height": 359
        }
      },
      "source": [
        "# preview data\n",
        "df_20_enroll.head(10)"
      ],
      "execution_count": 153,
      "outputs": [
        {
          "output_type": "execute_result",
          "data": {
            "text/html": [
              "<div>\n",
              "<style scoped>\n",
              "    .dataframe tbody tr th:only-of-type {\n",
              "        vertical-align: middle;\n",
              "    }\n",
              "\n",
              "    .dataframe tbody tr th {\n",
              "        vertical-align: top;\n",
              "    }\n",
              "\n",
              "    .dataframe thead th {\n",
              "        text-align: right;\n",
              "    }\n",
              "</style>\n",
              "<table border=\"1\" class=\"dataframe\">\n",
              "  <thead>\n",
              "    <tr style=\"text-align: right;\">\n",
              "      <th></th>\n",
              "      <th>Year</th>\n",
              "      <th>LSS</th>\n",
              "      <th>LSS Name</th>\n",
              "      <th>School</th>\n",
              "      <th>School Name</th>\n",
              "      <th>Grade</th>\n",
              "      <th>Enrolled Count</th>\n",
              "      <th>Create Date</th>\n",
              "      <th>school_id</th>\n",
              "    </tr>\n",
              "  </thead>\n",
              "  <tbody>\n",
              "    <tr>\n",
              "      <th>0</th>\n",
              "      <td>2020</td>\n",
              "      <td>01</td>\n",
              "      <td>Allegany</td>\n",
              "      <td>0301</td>\n",
              "      <td>Flintstone Elementary</td>\n",
              "      <td>Prekindergarten Age 4</td>\n",
              "      <td>19</td>\n",
              "      <td>20200805</td>\n",
              "      <td>010301</td>\n",
              "    </tr>\n",
              "    <tr>\n",
              "      <th>1</th>\n",
              "      <td>2020</td>\n",
              "      <td>01</td>\n",
              "      <td>Allegany</td>\n",
              "      <td>0301</td>\n",
              "      <td>Flintstone Elementary</td>\n",
              "      <td>Kindergarten</td>\n",
              "      <td>28</td>\n",
              "      <td>20200805</td>\n",
              "      <td>010301</td>\n",
              "    </tr>\n",
              "    <tr>\n",
              "      <th>2</th>\n",
              "      <td>2020</td>\n",
              "      <td>01</td>\n",
              "      <td>Allegany</td>\n",
              "      <td>0301</td>\n",
              "      <td>Flintstone Elementary</td>\n",
              "      <td>Grade 1</td>\n",
              "      <td>31</td>\n",
              "      <td>20200805</td>\n",
              "      <td>010301</td>\n",
              "    </tr>\n",
              "    <tr>\n",
              "      <th>3</th>\n",
              "      <td>2020</td>\n",
              "      <td>01</td>\n",
              "      <td>Allegany</td>\n",
              "      <td>0301</td>\n",
              "      <td>Flintstone Elementary</td>\n",
              "      <td>Grade 2</td>\n",
              "      <td>40</td>\n",
              "      <td>20200805</td>\n",
              "      <td>010301</td>\n",
              "    </tr>\n",
              "    <tr>\n",
              "      <th>4</th>\n",
              "      <td>2020</td>\n",
              "      <td>01</td>\n",
              "      <td>Allegany</td>\n",
              "      <td>0301</td>\n",
              "      <td>Flintstone Elementary</td>\n",
              "      <td>Grade 3</td>\n",
              "      <td>30</td>\n",
              "      <td>20200805</td>\n",
              "      <td>010301</td>\n",
              "    </tr>\n",
              "    <tr>\n",
              "      <th>5</th>\n",
              "      <td>2020</td>\n",
              "      <td>01</td>\n",
              "      <td>Allegany</td>\n",
              "      <td>0301</td>\n",
              "      <td>Flintstone Elementary</td>\n",
              "      <td>Grade 4</td>\n",
              "      <td>38</td>\n",
              "      <td>20200805</td>\n",
              "      <td>010301</td>\n",
              "    </tr>\n",
              "    <tr>\n",
              "      <th>6</th>\n",
              "      <td>2020</td>\n",
              "      <td>01</td>\n",
              "      <td>Allegany</td>\n",
              "      <td>0301</td>\n",
              "      <td>Flintstone Elementary</td>\n",
              "      <td>Grade 5</td>\n",
              "      <td>35</td>\n",
              "      <td>20200805</td>\n",
              "      <td>010301</td>\n",
              "    </tr>\n",
              "    <tr>\n",
              "      <th>7</th>\n",
              "      <td>2020</td>\n",
              "      <td>01</td>\n",
              "      <td>Allegany</td>\n",
              "      <td>0301</td>\n",
              "      <td>Flintstone Elementary</td>\n",
              "      <td>All Grades</td>\n",
              "      <td>221</td>\n",
              "      <td>20200805</td>\n",
              "      <td>010301</td>\n",
              "    </tr>\n",
              "    <tr>\n",
              "      <th>8</th>\n",
              "      <td>2020</td>\n",
              "      <td>01</td>\n",
              "      <td>Allegany</td>\n",
              "      <td>0401</td>\n",
              "      <td>South Penn Elementary</td>\n",
              "      <td>Prekindergarten Age 4</td>\n",
              "      <td>97</td>\n",
              "      <td>20200805</td>\n",
              "      <td>010401</td>\n",
              "    </tr>\n",
              "    <tr>\n",
              "      <th>9</th>\n",
              "      <td>2020</td>\n",
              "      <td>01</td>\n",
              "      <td>Allegany</td>\n",
              "      <td>0401</td>\n",
              "      <td>South Penn Elementary</td>\n",
              "      <td>Kindergarten</td>\n",
              "      <td>63</td>\n",
              "      <td>20200805</td>\n",
              "      <td>010401</td>\n",
              "    </tr>\n",
              "  </tbody>\n",
              "</table>\n",
              "</div>"
            ],
            "text/plain": [
              "   Year LSS  LSS Name  ... Enrolled Count Create Date school_id\n",
              "0  2020  01  Allegany  ...             19    20200805    010301\n",
              "1  2020  01  Allegany  ...             28    20200805    010301\n",
              "2  2020  01  Allegany  ...             31    20200805    010301\n",
              "3  2020  01  Allegany  ...             40    20200805    010301\n",
              "4  2020  01  Allegany  ...             30    20200805    010301\n",
              "5  2020  01  Allegany  ...             38    20200805    010301\n",
              "6  2020  01  Allegany  ...             35    20200805    010301\n",
              "7  2020  01  Allegany  ...            221    20200805    010301\n",
              "8  2020  01  Allegany  ...             97    20200805    010401\n",
              "9  2020  01  Allegany  ...             63    20200805    010401\n",
              "\n",
              "[10 rows x 9 columns]"
            ]
          },
          "metadata": {
            "tags": []
          },
          "execution_count": 153
        }
      ]
    },
    {
      "cell_type": "code",
      "metadata": {
        "id": "vEoXhWa_EvOq"
      },
      "source": [
        "# change prek age 4 to just pre k\n",
        "df_20_enroll[\"Grade\"] = np.where(df_20_enroll[\"Grade\"] == \"Prekindergarten Age 4\", \"Prekindergarten\", df_20_enroll[\"Grade\"])"
      ],
      "execution_count": 154,
      "outputs": []
    },
    {
      "cell_type": "code",
      "metadata": {
        "id": "WpMoTuX6GykT",
        "outputId": "44f3b85e-6ac6-49d1-f211-9068b536db10",
        "colab": {
          "base_uri": "https://localhost:8080/",
          "height": 359
        }
      },
      "source": [
        "# preview data\n",
        "df_20_enroll.head(10)"
      ],
      "execution_count": 155,
      "outputs": [
        {
          "output_type": "execute_result",
          "data": {
            "text/html": [
              "<div>\n",
              "<style scoped>\n",
              "    .dataframe tbody tr th:only-of-type {\n",
              "        vertical-align: middle;\n",
              "    }\n",
              "\n",
              "    .dataframe tbody tr th {\n",
              "        vertical-align: top;\n",
              "    }\n",
              "\n",
              "    .dataframe thead th {\n",
              "        text-align: right;\n",
              "    }\n",
              "</style>\n",
              "<table border=\"1\" class=\"dataframe\">\n",
              "  <thead>\n",
              "    <tr style=\"text-align: right;\">\n",
              "      <th></th>\n",
              "      <th>Year</th>\n",
              "      <th>LSS</th>\n",
              "      <th>LSS Name</th>\n",
              "      <th>School</th>\n",
              "      <th>School Name</th>\n",
              "      <th>Grade</th>\n",
              "      <th>Enrolled Count</th>\n",
              "      <th>Create Date</th>\n",
              "      <th>school_id</th>\n",
              "    </tr>\n",
              "  </thead>\n",
              "  <tbody>\n",
              "    <tr>\n",
              "      <th>0</th>\n",
              "      <td>2020</td>\n",
              "      <td>01</td>\n",
              "      <td>Allegany</td>\n",
              "      <td>0301</td>\n",
              "      <td>Flintstone Elementary</td>\n",
              "      <td>Prekindergarten</td>\n",
              "      <td>19</td>\n",
              "      <td>20200805</td>\n",
              "      <td>010301</td>\n",
              "    </tr>\n",
              "    <tr>\n",
              "      <th>1</th>\n",
              "      <td>2020</td>\n",
              "      <td>01</td>\n",
              "      <td>Allegany</td>\n",
              "      <td>0301</td>\n",
              "      <td>Flintstone Elementary</td>\n",
              "      <td>Kindergarten</td>\n",
              "      <td>28</td>\n",
              "      <td>20200805</td>\n",
              "      <td>010301</td>\n",
              "    </tr>\n",
              "    <tr>\n",
              "      <th>2</th>\n",
              "      <td>2020</td>\n",
              "      <td>01</td>\n",
              "      <td>Allegany</td>\n",
              "      <td>0301</td>\n",
              "      <td>Flintstone Elementary</td>\n",
              "      <td>Grade 1</td>\n",
              "      <td>31</td>\n",
              "      <td>20200805</td>\n",
              "      <td>010301</td>\n",
              "    </tr>\n",
              "    <tr>\n",
              "      <th>3</th>\n",
              "      <td>2020</td>\n",
              "      <td>01</td>\n",
              "      <td>Allegany</td>\n",
              "      <td>0301</td>\n",
              "      <td>Flintstone Elementary</td>\n",
              "      <td>Grade 2</td>\n",
              "      <td>40</td>\n",
              "      <td>20200805</td>\n",
              "      <td>010301</td>\n",
              "    </tr>\n",
              "    <tr>\n",
              "      <th>4</th>\n",
              "      <td>2020</td>\n",
              "      <td>01</td>\n",
              "      <td>Allegany</td>\n",
              "      <td>0301</td>\n",
              "      <td>Flintstone Elementary</td>\n",
              "      <td>Grade 3</td>\n",
              "      <td>30</td>\n",
              "      <td>20200805</td>\n",
              "      <td>010301</td>\n",
              "    </tr>\n",
              "    <tr>\n",
              "      <th>5</th>\n",
              "      <td>2020</td>\n",
              "      <td>01</td>\n",
              "      <td>Allegany</td>\n",
              "      <td>0301</td>\n",
              "      <td>Flintstone Elementary</td>\n",
              "      <td>Grade 4</td>\n",
              "      <td>38</td>\n",
              "      <td>20200805</td>\n",
              "      <td>010301</td>\n",
              "    </tr>\n",
              "    <tr>\n",
              "      <th>6</th>\n",
              "      <td>2020</td>\n",
              "      <td>01</td>\n",
              "      <td>Allegany</td>\n",
              "      <td>0301</td>\n",
              "      <td>Flintstone Elementary</td>\n",
              "      <td>Grade 5</td>\n",
              "      <td>35</td>\n",
              "      <td>20200805</td>\n",
              "      <td>010301</td>\n",
              "    </tr>\n",
              "    <tr>\n",
              "      <th>7</th>\n",
              "      <td>2020</td>\n",
              "      <td>01</td>\n",
              "      <td>Allegany</td>\n",
              "      <td>0301</td>\n",
              "      <td>Flintstone Elementary</td>\n",
              "      <td>All Grades</td>\n",
              "      <td>221</td>\n",
              "      <td>20200805</td>\n",
              "      <td>010301</td>\n",
              "    </tr>\n",
              "    <tr>\n",
              "      <th>8</th>\n",
              "      <td>2020</td>\n",
              "      <td>01</td>\n",
              "      <td>Allegany</td>\n",
              "      <td>0401</td>\n",
              "      <td>South Penn Elementary</td>\n",
              "      <td>Prekindergarten</td>\n",
              "      <td>97</td>\n",
              "      <td>20200805</td>\n",
              "      <td>010401</td>\n",
              "    </tr>\n",
              "    <tr>\n",
              "      <th>9</th>\n",
              "      <td>2020</td>\n",
              "      <td>01</td>\n",
              "      <td>Allegany</td>\n",
              "      <td>0401</td>\n",
              "      <td>South Penn Elementary</td>\n",
              "      <td>Kindergarten</td>\n",
              "      <td>63</td>\n",
              "      <td>20200805</td>\n",
              "      <td>010401</td>\n",
              "    </tr>\n",
              "  </tbody>\n",
              "</table>\n",
              "</div>"
            ],
            "text/plain": [
              "   Year LSS  LSS Name  ... Enrolled Count Create Date school_id\n",
              "0  2020  01  Allegany  ...             19    20200805    010301\n",
              "1  2020  01  Allegany  ...             28    20200805    010301\n",
              "2  2020  01  Allegany  ...             31    20200805    010301\n",
              "3  2020  01  Allegany  ...             40    20200805    010301\n",
              "4  2020  01  Allegany  ...             30    20200805    010301\n",
              "5  2020  01  Allegany  ...             38    20200805    010301\n",
              "6  2020  01  Allegany  ...             35    20200805    010301\n",
              "7  2020  01  Allegany  ...            221    20200805    010301\n",
              "8  2020  01  Allegany  ...             97    20200805    010401\n",
              "9  2020  01  Allegany  ...             63    20200805    010401\n",
              "\n",
              "[10 rows x 9 columns]"
            ]
          },
          "metadata": {
            "tags": []
          },
          "execution_count": 155
        }
      ]
    },
    {
      "cell_type": "code",
      "metadata": {
        "id": "TU9jHPUUG0jj"
      },
      "source": [
        "# change \"all grades\" to \"total enrollment\"\n",
        "df_20_enroll[\"Grade\"] = np.where(df_20_enroll[\"Grade\"] == \"All Grades\", \"Total Enrollment\", df_20_enroll[\"Grade\"])"
      ],
      "execution_count": 156,
      "outputs": []
    },
    {
      "cell_type": "markdown",
      "metadata": {
        "id": "2ITtmMsRIDWv"
      },
      "source": [
        "## Merging datasets together"
      ]
    },
    {
      "cell_type": "code",
      "metadata": {
        "id": "TkevU9BpHETT"
      },
      "source": [
        "# merge with pandas\n",
        "\n",
        "df_19_20_merge  = pd.merge(df_19_enroll, \n",
        "                           df_20_enroll[[\"school_id\", \"Grade\", \"Enrolled Count\"]],\n",
        "                           on = [\"school_id\", \"Grade\"],\n",
        "                           how = \"left\")"
      ],
      "execution_count": 157,
      "outputs": []
    },
    {
      "cell_type": "code",
      "metadata": {
        "id": "Fc7-7c7GIxOs",
        "outputId": "75d57bc1-f0a1-4e7d-959e-bc0fea3acd4b",
        "colab": {
          "base_uri": "https://localhost:8080/",
          "height": 204
        }
      },
      "source": [
        "# preview merged data\n",
        "df_19_20_merge.head()"
      ],
      "execution_count": 158,
      "outputs": [
        {
          "output_type": "execute_result",
          "data": {
            "text/html": [
              "<div>\n",
              "<style scoped>\n",
              "    .dataframe tbody tr th:only-of-type {\n",
              "        vertical-align: middle;\n",
              "    }\n",
              "\n",
              "    .dataframe tbody tr th {\n",
              "        vertical-align: top;\n",
              "    }\n",
              "\n",
              "    .dataframe thead th {\n",
              "        text-align: right;\n",
              "    }\n",
              "</style>\n",
              "<table border=\"1\" class=\"dataframe\">\n",
              "  <thead>\n",
              "    <tr style=\"text-align: right;\">\n",
              "      <th></th>\n",
              "      <th>Academic Year</th>\n",
              "      <th>LSS Number</th>\n",
              "      <th>LSS Name</th>\n",
              "      <th>School Number</th>\n",
              "      <th>School Name</th>\n",
              "      <th>Grade</th>\n",
              "      <th>Enrolled Count_x</th>\n",
              "      <th>Create Date</th>\n",
              "      <th>school_id</th>\n",
              "      <th>Enrolled Count_y</th>\n",
              "    </tr>\n",
              "  </thead>\n",
              "  <tbody>\n",
              "    <tr>\n",
              "      <th>0</th>\n",
              "      <td>2019</td>\n",
              "      <td>01</td>\n",
              "      <td>Allegany</td>\n",
              "      <td>0301</td>\n",
              "      <td>Flintstone Elementary</td>\n",
              "      <td>Prekindergarten</td>\n",
              "      <td>13</td>\n",
              "      <td>20190903</td>\n",
              "      <td>010301</td>\n",
              "      <td>19</td>\n",
              "    </tr>\n",
              "    <tr>\n",
              "      <th>1</th>\n",
              "      <td>2019</td>\n",
              "      <td>01</td>\n",
              "      <td>Allegany</td>\n",
              "      <td>0301</td>\n",
              "      <td>Flintstone Elementary</td>\n",
              "      <td>Kindergarten</td>\n",
              "      <td>31</td>\n",
              "      <td>20190903</td>\n",
              "      <td>010301</td>\n",
              "      <td>28</td>\n",
              "    </tr>\n",
              "    <tr>\n",
              "      <th>2</th>\n",
              "      <td>2019</td>\n",
              "      <td>01</td>\n",
              "      <td>Allegany</td>\n",
              "      <td>0301</td>\n",
              "      <td>Flintstone Elementary</td>\n",
              "      <td>Grade 1</td>\n",
              "      <td>36</td>\n",
              "      <td>20190903</td>\n",
              "      <td>010301</td>\n",
              "      <td>31</td>\n",
              "    </tr>\n",
              "    <tr>\n",
              "      <th>3</th>\n",
              "      <td>2019</td>\n",
              "      <td>01</td>\n",
              "      <td>Allegany</td>\n",
              "      <td>0301</td>\n",
              "      <td>Flintstone Elementary</td>\n",
              "      <td>Grade 2</td>\n",
              "      <td>28</td>\n",
              "      <td>20190903</td>\n",
              "      <td>010301</td>\n",
              "      <td>40</td>\n",
              "    </tr>\n",
              "    <tr>\n",
              "      <th>4</th>\n",
              "      <td>2019</td>\n",
              "      <td>01</td>\n",
              "      <td>Allegany</td>\n",
              "      <td>0301</td>\n",
              "      <td>Flintstone Elementary</td>\n",
              "      <td>Grade 3</td>\n",
              "      <td>40</td>\n",
              "      <td>20190903</td>\n",
              "      <td>010301</td>\n",
              "      <td>30</td>\n",
              "    </tr>\n",
              "  </tbody>\n",
              "</table>\n",
              "</div>"
            ],
            "text/plain": [
              "   Academic Year LSS Number  LSS Name  ... Create Date school_id Enrolled Count_y\n",
              "0           2019         01  Allegany  ...    20190903    010301               19\n",
              "1           2019         01  Allegany  ...    20190903    010301               28\n",
              "2           2019         01  Allegany  ...    20190903    010301               31\n",
              "3           2019         01  Allegany  ...    20190903    010301               40\n",
              "4           2019         01  Allegany  ...    20190903    010301               30\n",
              "\n",
              "[5 rows x 10 columns]"
            ]
          },
          "metadata": {
            "tags": []
          },
          "execution_count": 158
        }
      ]
    },
    {
      "cell_type": "code",
      "metadata": {
        "id": "87_niX5LIztL"
      },
      "source": [
        "# rename columns for 2019 and 2020\n",
        "df_19_20_merge = df_19_20_merge.rename(columns = {\"Enrolled Count_x\": \"Enrolled Count 2019\", \n",
        "                                                  \"Enrolled Count_y\": \"Enrolled Count 2020\"})"
      ],
      "execution_count": 159,
      "outputs": []
    },
    {
      "cell_type": "markdown",
      "metadata": {
        "id": "ectNIt4oddAy"
      },
      "source": [
        "# Calculate Percent change in enrollment in 2020"
      ]
    },
    {
      "cell_type": "code",
      "metadata": {
        "id": "ERI3mQnDdx9F"
      },
      "source": [
        "# remove any values are *\n",
        "df_19_20_merge = df_19_20_merge[df_19_20_merge[\"Enrolled Count 2019\"] != \"*\"]"
      ],
      "execution_count": 160,
      "outputs": []
    },
    {
      "cell_type": "code",
      "metadata": {
        "id": "JeUiAVayJIW8"
      },
      "source": [
        "# convert enrolled count to integers\n",
        "df_19_20_merge[\"Enrolled Count 2019\"] = df_19_20_merge[\"Enrolled Count 2019\"].astype(int)"
      ],
      "execution_count": 161,
      "outputs": []
    },
    {
      "cell_type": "code",
      "metadata": {
        "id": "VcZYli8qduxN",
        "outputId": "0da00c97-cb25-4d26-97bf-5d359ee4c417",
        "colab": {
          "base_uri": "https://localhost:8080/",
          "height": 204
        }
      },
      "source": [
        "# preview integer df\n",
        "df_19_20_merge.head()"
      ],
      "execution_count": 162,
      "outputs": [
        {
          "output_type": "execute_result",
          "data": {
            "text/html": [
              "<div>\n",
              "<style scoped>\n",
              "    .dataframe tbody tr th:only-of-type {\n",
              "        vertical-align: middle;\n",
              "    }\n",
              "\n",
              "    .dataframe tbody tr th {\n",
              "        vertical-align: top;\n",
              "    }\n",
              "\n",
              "    .dataframe thead th {\n",
              "        text-align: right;\n",
              "    }\n",
              "</style>\n",
              "<table border=\"1\" class=\"dataframe\">\n",
              "  <thead>\n",
              "    <tr style=\"text-align: right;\">\n",
              "      <th></th>\n",
              "      <th>Academic Year</th>\n",
              "      <th>LSS Number</th>\n",
              "      <th>LSS Name</th>\n",
              "      <th>School Number</th>\n",
              "      <th>School Name</th>\n",
              "      <th>Grade</th>\n",
              "      <th>Enrolled Count 2019</th>\n",
              "      <th>Create Date</th>\n",
              "      <th>school_id</th>\n",
              "      <th>Enrolled Count 2020</th>\n",
              "    </tr>\n",
              "  </thead>\n",
              "  <tbody>\n",
              "    <tr>\n",
              "      <th>0</th>\n",
              "      <td>2019</td>\n",
              "      <td>01</td>\n",
              "      <td>Allegany</td>\n",
              "      <td>0301</td>\n",
              "      <td>Flintstone Elementary</td>\n",
              "      <td>Prekindergarten</td>\n",
              "      <td>13</td>\n",
              "      <td>20190903</td>\n",
              "      <td>010301</td>\n",
              "      <td>19</td>\n",
              "    </tr>\n",
              "    <tr>\n",
              "      <th>1</th>\n",
              "      <td>2019</td>\n",
              "      <td>01</td>\n",
              "      <td>Allegany</td>\n",
              "      <td>0301</td>\n",
              "      <td>Flintstone Elementary</td>\n",
              "      <td>Kindergarten</td>\n",
              "      <td>31</td>\n",
              "      <td>20190903</td>\n",
              "      <td>010301</td>\n",
              "      <td>28</td>\n",
              "    </tr>\n",
              "    <tr>\n",
              "      <th>2</th>\n",
              "      <td>2019</td>\n",
              "      <td>01</td>\n",
              "      <td>Allegany</td>\n",
              "      <td>0301</td>\n",
              "      <td>Flintstone Elementary</td>\n",
              "      <td>Grade 1</td>\n",
              "      <td>36</td>\n",
              "      <td>20190903</td>\n",
              "      <td>010301</td>\n",
              "      <td>31</td>\n",
              "    </tr>\n",
              "    <tr>\n",
              "      <th>3</th>\n",
              "      <td>2019</td>\n",
              "      <td>01</td>\n",
              "      <td>Allegany</td>\n",
              "      <td>0301</td>\n",
              "      <td>Flintstone Elementary</td>\n",
              "      <td>Grade 2</td>\n",
              "      <td>28</td>\n",
              "      <td>20190903</td>\n",
              "      <td>010301</td>\n",
              "      <td>40</td>\n",
              "    </tr>\n",
              "    <tr>\n",
              "      <th>4</th>\n",
              "      <td>2019</td>\n",
              "      <td>01</td>\n",
              "      <td>Allegany</td>\n",
              "      <td>0301</td>\n",
              "      <td>Flintstone Elementary</td>\n",
              "      <td>Grade 3</td>\n",
              "      <td>40</td>\n",
              "      <td>20190903</td>\n",
              "      <td>010301</td>\n",
              "      <td>30</td>\n",
              "    </tr>\n",
              "  </tbody>\n",
              "</table>\n",
              "</div>"
            ],
            "text/plain": [
              "   Academic Year LSS Number  ... school_id Enrolled Count 2020\n",
              "0           2019         01  ...    010301                  19\n",
              "1           2019         01  ...    010301                  28\n",
              "2           2019         01  ...    010301                  31\n",
              "3           2019         01  ...    010301                  40\n",
              "4           2019         01  ...    010301                  30\n",
              "\n",
              "[5 rows x 10 columns]"
            ]
          },
          "metadata": {
            "tags": []
          },
          "execution_count": 162
        }
      ]
    },
    {
      "cell_type": "code",
      "metadata": {
        "id": "OWKYJzAjeBoY",
        "outputId": "614a338e-fb6e-420e-afe4-91ef4ed821ce",
        "colab": {
          "base_uri": "https://localhost:8080/"
        }
      },
      "source": [
        "df_19_20_merge.info()"
      ],
      "execution_count": 163,
      "outputs": [
        {
          "output_type": "stream",
          "text": [
            "<class 'pandas.core.frame.DataFrame'>\n",
            "Int64Index: 9437 entries, 0 to 9780\n",
            "Data columns (total 10 columns):\n",
            " #   Column               Non-Null Count  Dtype \n",
            "---  ------               --------------  ----- \n",
            " 0   Academic Year        9437 non-null   int64 \n",
            " 1   LSS Number           9437 non-null   object\n",
            " 2   LSS Name             9437 non-null   object\n",
            " 3   School Number        9437 non-null   object\n",
            " 4   School Name          9437 non-null   object\n",
            " 5   Grade                9437 non-null   object\n",
            " 6   Enrolled Count 2019  9437 non-null   int64 \n",
            " 7   Create Date          9437 non-null   int64 \n",
            " 8   school_id            9437 non-null   object\n",
            " 9   Enrolled Count 2020  9194 non-null   object\n",
            "dtypes: int64(3), object(7)\n",
            "memory usage: 811.0+ KB\n"
          ],
          "name": "stdout"
        }
      ]
    },
    {
      "cell_type": "code",
      "metadata": {
        "id": "mRsV4m6-eDZ2"
      },
      "source": [
        "# remove any values are * from 2020 column\n",
        "df_19_20_merge = df_19_20_merge[df_19_20_merge[\"Enrolled Count 2020\"] != \"*\"]"
      ],
      "execution_count": 164,
      "outputs": []
    },
    {
      "cell_type": "code",
      "metadata": {
        "id": "arWGYNloeK-X"
      },
      "source": [
        "# convert enrolled count to integers\n",
        "df_19_20_merge[\"Enrolled Count 2020\"] = df_19_20_merge[\"Enrolled Count 2020\"].astype(float)"
      ],
      "execution_count": 165,
      "outputs": []
    },
    {
      "cell_type": "code",
      "metadata": {
        "id": "tqtAXRhTeOhH",
        "outputId": "e329f51a-dba6-4e50-ce69-eeb9fd8ce4aa",
        "colab": {
          "base_uri": "https://localhost:8080/",
          "height": 204
        }
      },
      "source": [
        "# preview df\n",
        "df_19_20_merge.head()"
      ],
      "execution_count": 166,
      "outputs": [
        {
          "output_type": "execute_result",
          "data": {
            "text/html": [
              "<div>\n",
              "<style scoped>\n",
              "    .dataframe tbody tr th:only-of-type {\n",
              "        vertical-align: middle;\n",
              "    }\n",
              "\n",
              "    .dataframe tbody tr th {\n",
              "        vertical-align: top;\n",
              "    }\n",
              "\n",
              "    .dataframe thead th {\n",
              "        text-align: right;\n",
              "    }\n",
              "</style>\n",
              "<table border=\"1\" class=\"dataframe\">\n",
              "  <thead>\n",
              "    <tr style=\"text-align: right;\">\n",
              "      <th></th>\n",
              "      <th>Academic Year</th>\n",
              "      <th>LSS Number</th>\n",
              "      <th>LSS Name</th>\n",
              "      <th>School Number</th>\n",
              "      <th>School Name</th>\n",
              "      <th>Grade</th>\n",
              "      <th>Enrolled Count 2019</th>\n",
              "      <th>Create Date</th>\n",
              "      <th>school_id</th>\n",
              "      <th>Enrolled Count 2020</th>\n",
              "    </tr>\n",
              "  </thead>\n",
              "  <tbody>\n",
              "    <tr>\n",
              "      <th>0</th>\n",
              "      <td>2019</td>\n",
              "      <td>01</td>\n",
              "      <td>Allegany</td>\n",
              "      <td>0301</td>\n",
              "      <td>Flintstone Elementary</td>\n",
              "      <td>Prekindergarten</td>\n",
              "      <td>13</td>\n",
              "      <td>20190903</td>\n",
              "      <td>010301</td>\n",
              "      <td>19.0</td>\n",
              "    </tr>\n",
              "    <tr>\n",
              "      <th>1</th>\n",
              "      <td>2019</td>\n",
              "      <td>01</td>\n",
              "      <td>Allegany</td>\n",
              "      <td>0301</td>\n",
              "      <td>Flintstone Elementary</td>\n",
              "      <td>Kindergarten</td>\n",
              "      <td>31</td>\n",
              "      <td>20190903</td>\n",
              "      <td>010301</td>\n",
              "      <td>28.0</td>\n",
              "    </tr>\n",
              "    <tr>\n",
              "      <th>2</th>\n",
              "      <td>2019</td>\n",
              "      <td>01</td>\n",
              "      <td>Allegany</td>\n",
              "      <td>0301</td>\n",
              "      <td>Flintstone Elementary</td>\n",
              "      <td>Grade 1</td>\n",
              "      <td>36</td>\n",
              "      <td>20190903</td>\n",
              "      <td>010301</td>\n",
              "      <td>31.0</td>\n",
              "    </tr>\n",
              "    <tr>\n",
              "      <th>3</th>\n",
              "      <td>2019</td>\n",
              "      <td>01</td>\n",
              "      <td>Allegany</td>\n",
              "      <td>0301</td>\n",
              "      <td>Flintstone Elementary</td>\n",
              "      <td>Grade 2</td>\n",
              "      <td>28</td>\n",
              "      <td>20190903</td>\n",
              "      <td>010301</td>\n",
              "      <td>40.0</td>\n",
              "    </tr>\n",
              "    <tr>\n",
              "      <th>4</th>\n",
              "      <td>2019</td>\n",
              "      <td>01</td>\n",
              "      <td>Allegany</td>\n",
              "      <td>0301</td>\n",
              "      <td>Flintstone Elementary</td>\n",
              "      <td>Grade 3</td>\n",
              "      <td>40</td>\n",
              "      <td>20190903</td>\n",
              "      <td>010301</td>\n",
              "      <td>30.0</td>\n",
              "    </tr>\n",
              "  </tbody>\n",
              "</table>\n",
              "</div>"
            ],
            "text/plain": [
              "   Academic Year LSS Number  ... school_id Enrolled Count 2020\n",
              "0           2019         01  ...    010301                19.0\n",
              "1           2019         01  ...    010301                28.0\n",
              "2           2019         01  ...    010301                31.0\n",
              "3           2019         01  ...    010301                40.0\n",
              "4           2019         01  ...    010301                30.0\n",
              "\n",
              "[5 rows x 10 columns]"
            ]
          },
          "metadata": {
            "tags": []
          },
          "execution_count": 166
        }
      ]
    },
    {
      "cell_type": "code",
      "metadata": {
        "id": "gW0eGJb3eX0Y"
      },
      "source": [
        "# deleting the create date column\n",
        "del df_19_20_merge[\"Create Date\"]"
      ],
      "execution_count": 167,
      "outputs": []
    },
    {
      "cell_type": "code",
      "metadata": {
        "id": "Ti4SZp8geqTK",
        "outputId": "bf799b14-78da-43d9-b5fb-35a6a2c8cb46",
        "colab": {
          "base_uri": "https://localhost:8080/"
        }
      },
      "source": [
        "# getting  alist of the column names\n",
        "df_19_20_merge.columns.to_list()"
      ],
      "execution_count": 168,
      "outputs": [
        {
          "output_type": "execute_result",
          "data": {
            "text/plain": [
              "['Academic Year',\n",
              " 'LSS Number',\n",
              " 'LSS Name',\n",
              " 'School Number',\n",
              " 'School Name',\n",
              " 'Grade',\n",
              " 'Enrolled Count 2019',\n",
              " 'school_id',\n",
              " 'Enrolled Count 2020']"
            ]
          },
          "metadata": {
            "tags": []
          },
          "execution_count": 168
        }
      ]
    },
    {
      "cell_type": "code",
      "metadata": {
        "id": "uCNeuTG7ere2"
      },
      "source": [
        "#rearrange the column in df\n",
        "df_19_20_merge = df_19_20_merge[['school_id',\n",
        "                                 'Academic Year',\n",
        "                                 'LSS Number',\n",
        "                                 'LSS Name',\n",
        "                                 'School Number',\n",
        "                                 'School Name',\n",
        "                                 'Grade',\n",
        "                                 'Enrolled Count 2019',\n",
        "                                 'Enrolled Count 2020']]"
      ],
      "execution_count": 169,
      "outputs": []
    },
    {
      "cell_type": "code",
      "metadata": {
        "id": "Axk3MELdfTlp",
        "outputId": "62921851-d308-409b-8509-b1aff2d25f3c",
        "colab": {
          "base_uri": "https://localhost:8080/",
          "height": 204
        }
      },
      "source": [
        "# preview data\n",
        "df_19_20_merge.head()"
      ],
      "execution_count": 170,
      "outputs": [
        {
          "output_type": "execute_result",
          "data": {
            "text/html": [
              "<div>\n",
              "<style scoped>\n",
              "    .dataframe tbody tr th:only-of-type {\n",
              "        vertical-align: middle;\n",
              "    }\n",
              "\n",
              "    .dataframe tbody tr th {\n",
              "        vertical-align: top;\n",
              "    }\n",
              "\n",
              "    .dataframe thead th {\n",
              "        text-align: right;\n",
              "    }\n",
              "</style>\n",
              "<table border=\"1\" class=\"dataframe\">\n",
              "  <thead>\n",
              "    <tr style=\"text-align: right;\">\n",
              "      <th></th>\n",
              "      <th>school_id</th>\n",
              "      <th>Academic Year</th>\n",
              "      <th>LSS Number</th>\n",
              "      <th>LSS Name</th>\n",
              "      <th>School Number</th>\n",
              "      <th>School Name</th>\n",
              "      <th>Grade</th>\n",
              "      <th>Enrolled Count 2019</th>\n",
              "      <th>Enrolled Count 2020</th>\n",
              "    </tr>\n",
              "  </thead>\n",
              "  <tbody>\n",
              "    <tr>\n",
              "      <th>0</th>\n",
              "      <td>010301</td>\n",
              "      <td>2019</td>\n",
              "      <td>01</td>\n",
              "      <td>Allegany</td>\n",
              "      <td>0301</td>\n",
              "      <td>Flintstone Elementary</td>\n",
              "      <td>Prekindergarten</td>\n",
              "      <td>13</td>\n",
              "      <td>19.0</td>\n",
              "    </tr>\n",
              "    <tr>\n",
              "      <th>1</th>\n",
              "      <td>010301</td>\n",
              "      <td>2019</td>\n",
              "      <td>01</td>\n",
              "      <td>Allegany</td>\n",
              "      <td>0301</td>\n",
              "      <td>Flintstone Elementary</td>\n",
              "      <td>Kindergarten</td>\n",
              "      <td>31</td>\n",
              "      <td>28.0</td>\n",
              "    </tr>\n",
              "    <tr>\n",
              "      <th>2</th>\n",
              "      <td>010301</td>\n",
              "      <td>2019</td>\n",
              "      <td>01</td>\n",
              "      <td>Allegany</td>\n",
              "      <td>0301</td>\n",
              "      <td>Flintstone Elementary</td>\n",
              "      <td>Grade 1</td>\n",
              "      <td>36</td>\n",
              "      <td>31.0</td>\n",
              "    </tr>\n",
              "    <tr>\n",
              "      <th>3</th>\n",
              "      <td>010301</td>\n",
              "      <td>2019</td>\n",
              "      <td>01</td>\n",
              "      <td>Allegany</td>\n",
              "      <td>0301</td>\n",
              "      <td>Flintstone Elementary</td>\n",
              "      <td>Grade 2</td>\n",
              "      <td>28</td>\n",
              "      <td>40.0</td>\n",
              "    </tr>\n",
              "    <tr>\n",
              "      <th>4</th>\n",
              "      <td>010301</td>\n",
              "      <td>2019</td>\n",
              "      <td>01</td>\n",
              "      <td>Allegany</td>\n",
              "      <td>0301</td>\n",
              "      <td>Flintstone Elementary</td>\n",
              "      <td>Grade 3</td>\n",
              "      <td>40</td>\n",
              "      <td>30.0</td>\n",
              "    </tr>\n",
              "  </tbody>\n",
              "</table>\n",
              "</div>"
            ],
            "text/plain": [
              "  school_id  Academic Year  ... Enrolled Count 2019 Enrolled Count 2020\n",
              "0    010301           2019  ...                  13                19.0\n",
              "1    010301           2019  ...                  31                28.0\n",
              "2    010301           2019  ...                  36                31.0\n",
              "3    010301           2019  ...                  28                40.0\n",
              "4    010301           2019  ...                  40                30.0\n",
              "\n",
              "[5 rows x 9 columns]"
            ]
          },
          "metadata": {
            "tags": []
          },
          "execution_count": 170
        }
      ]
    },
    {
      "cell_type": "code",
      "metadata": {
        "id": "fkYSIN0rfVzC"
      },
      "source": [
        "# create a new unique identifier column\n",
        "df_19_20_merge[\"grade_school_id\"] = df_19_20_merge[\"Grade\"] + df_19_20_merge[\"School Name\"]"
      ],
      "execution_count": 171,
      "outputs": []
    },
    {
      "cell_type": "code",
      "metadata": {
        "id": "RasvPM-5f-xP"
      },
      "source": [
        "# create a new df for just enrollment numbers\n",
        "df_enroll_pctchange = df_19_20_merge[[\"grade_school_id\",\n",
        "                                      \"Enrolled Count 2019\", \n",
        "                                      \"Enrolled Count 2020\"]]"
      ],
      "execution_count": 172,
      "outputs": []
    },
    {
      "cell_type": "code",
      "metadata": {
        "id": "QrZV_89XgYz2",
        "outputId": "ade7b5f1-927a-4c8d-b3c5-23cbc16c9259",
        "colab": {
          "base_uri": "https://localhost:8080/",
          "height": 204
        }
      },
      "source": [
        "# preview df\n",
        "df_enroll_pctchange.head()"
      ],
      "execution_count": 173,
      "outputs": [
        {
          "output_type": "execute_result",
          "data": {
            "text/html": [
              "<div>\n",
              "<style scoped>\n",
              "    .dataframe tbody tr th:only-of-type {\n",
              "        vertical-align: middle;\n",
              "    }\n",
              "\n",
              "    .dataframe tbody tr th {\n",
              "        vertical-align: top;\n",
              "    }\n",
              "\n",
              "    .dataframe thead th {\n",
              "        text-align: right;\n",
              "    }\n",
              "</style>\n",
              "<table border=\"1\" class=\"dataframe\">\n",
              "  <thead>\n",
              "    <tr style=\"text-align: right;\">\n",
              "      <th></th>\n",
              "      <th>grade_school_id</th>\n",
              "      <th>Enrolled Count 2019</th>\n",
              "      <th>Enrolled Count 2020</th>\n",
              "    </tr>\n",
              "  </thead>\n",
              "  <tbody>\n",
              "    <tr>\n",
              "      <th>0</th>\n",
              "      <td>PrekindergartenFlintstone Elementary</td>\n",
              "      <td>13</td>\n",
              "      <td>19.0</td>\n",
              "    </tr>\n",
              "    <tr>\n",
              "      <th>1</th>\n",
              "      <td>KindergartenFlintstone Elementary</td>\n",
              "      <td>31</td>\n",
              "      <td>28.0</td>\n",
              "    </tr>\n",
              "    <tr>\n",
              "      <th>2</th>\n",
              "      <td>Grade 1Flintstone Elementary</td>\n",
              "      <td>36</td>\n",
              "      <td>31.0</td>\n",
              "    </tr>\n",
              "    <tr>\n",
              "      <th>3</th>\n",
              "      <td>Grade 2Flintstone Elementary</td>\n",
              "      <td>28</td>\n",
              "      <td>40.0</td>\n",
              "    </tr>\n",
              "    <tr>\n",
              "      <th>4</th>\n",
              "      <td>Grade 3Flintstone Elementary</td>\n",
              "      <td>40</td>\n",
              "      <td>30.0</td>\n",
              "    </tr>\n",
              "  </tbody>\n",
              "</table>\n",
              "</div>"
            ],
            "text/plain": [
              "                        grade_school_id  ...  Enrolled Count 2020\n",
              "0  PrekindergartenFlintstone Elementary  ...                 19.0\n",
              "1     KindergartenFlintstone Elementary  ...                 28.0\n",
              "2          Grade 1Flintstone Elementary  ...                 31.0\n",
              "3          Grade 2Flintstone Elementary  ...                 40.0\n",
              "4          Grade 3Flintstone Elementary  ...                 30.0\n",
              "\n",
              "[5 rows x 3 columns]"
            ]
          },
          "metadata": {
            "tags": []
          },
          "execution_count": 173
        }
      ]
    },
    {
      "cell_type": "code",
      "metadata": {
        "id": "sEig1IDdgcJC"
      },
      "source": [
        "# move the unique id to the row label\n",
        "df_enroll_pctchange = df_enroll_pctchange.set_index(\"grade_school_id\")"
      ],
      "execution_count": 174,
      "outputs": []
    },
    {
      "cell_type": "code",
      "metadata": {
        "id": "a0SykDHAg2WF"
      },
      "source": [
        "# use percent change to make a new column that is the percent change\n",
        "df_enroll_pctchange[\"pct_change\"] = df_enroll_pctchange.pct_change(axis = \"columns\")[\"Enrolled Count 2020\"]"
      ],
      "execution_count": 175,
      "outputs": []
    },
    {
      "cell_type": "code",
      "metadata": {
        "id": "vicrvE6nhYEb",
        "outputId": "035deff1-4f3d-4d7b-a24d-ce90bf638102",
        "colab": {
          "base_uri": "https://localhost:8080/",
          "height": 235
        }
      },
      "source": [
        "# preview pct change\n",
        "df_enroll_pctchange.head()"
      ],
      "execution_count": 176,
      "outputs": [
        {
          "output_type": "execute_result",
          "data": {
            "text/html": [
              "<div>\n",
              "<style scoped>\n",
              "    .dataframe tbody tr th:only-of-type {\n",
              "        vertical-align: middle;\n",
              "    }\n",
              "\n",
              "    .dataframe tbody tr th {\n",
              "        vertical-align: top;\n",
              "    }\n",
              "\n",
              "    .dataframe thead th {\n",
              "        text-align: right;\n",
              "    }\n",
              "</style>\n",
              "<table border=\"1\" class=\"dataframe\">\n",
              "  <thead>\n",
              "    <tr style=\"text-align: right;\">\n",
              "      <th></th>\n",
              "      <th>Enrolled Count 2019</th>\n",
              "      <th>Enrolled Count 2020</th>\n",
              "      <th>pct_change</th>\n",
              "    </tr>\n",
              "    <tr>\n",
              "      <th>grade_school_id</th>\n",
              "      <th></th>\n",
              "      <th></th>\n",
              "      <th></th>\n",
              "    </tr>\n",
              "  </thead>\n",
              "  <tbody>\n",
              "    <tr>\n",
              "      <th>PrekindergartenFlintstone Elementary</th>\n",
              "      <td>13</td>\n",
              "      <td>19.0</td>\n",
              "      <td>0.461538</td>\n",
              "    </tr>\n",
              "    <tr>\n",
              "      <th>KindergartenFlintstone Elementary</th>\n",
              "      <td>31</td>\n",
              "      <td>28.0</td>\n",
              "      <td>-0.096774</td>\n",
              "    </tr>\n",
              "    <tr>\n",
              "      <th>Grade 1Flintstone Elementary</th>\n",
              "      <td>36</td>\n",
              "      <td>31.0</td>\n",
              "      <td>-0.138889</td>\n",
              "    </tr>\n",
              "    <tr>\n",
              "      <th>Grade 2Flintstone Elementary</th>\n",
              "      <td>28</td>\n",
              "      <td>40.0</td>\n",
              "      <td>0.428571</td>\n",
              "    </tr>\n",
              "    <tr>\n",
              "      <th>Grade 3Flintstone Elementary</th>\n",
              "      <td>40</td>\n",
              "      <td>30.0</td>\n",
              "      <td>-0.250000</td>\n",
              "    </tr>\n",
              "  </tbody>\n",
              "</table>\n",
              "</div>"
            ],
            "text/plain": [
              "                                      Enrolled Count 2019  ...  pct_change\n",
              "grade_school_id                                            ...            \n",
              "PrekindergartenFlintstone Elementary                   13  ...    0.461538\n",
              "KindergartenFlintstone Elementary                      31  ...   -0.096774\n",
              "Grade 1Flintstone Elementary                           36  ...   -0.138889\n",
              "Grade 2Flintstone Elementary                           28  ...    0.428571\n",
              "Grade 3Flintstone Elementary                           40  ...   -0.250000\n",
              "\n",
              "[5 rows x 3 columns]"
            ]
          },
          "metadata": {
            "tags": []
          },
          "execution_count": 176
        }
      ]
    },
    {
      "cell_type": "code",
      "metadata": {
        "id": "6G2CkPhnhauP"
      },
      "source": [
        "# reset index\n",
        "df_enroll_pctchange = df_enroll_pctchange.reset_index()"
      ],
      "execution_count": 177,
      "outputs": []
    },
    {
      "cell_type": "code",
      "metadata": {
        "id": "p2r-x5T_vmPW",
        "outputId": "12205092-bc4b-4703-ffe8-a68277bc982e",
        "colab": {
          "base_uri": "https://localhost:8080/",
          "height": 204
        }
      },
      "source": [
        "# preview data\n",
        "df_enroll_pctchange.head()"
      ],
      "execution_count": 178,
      "outputs": [
        {
          "output_type": "execute_result",
          "data": {
            "text/html": [
              "<div>\n",
              "<style scoped>\n",
              "    .dataframe tbody tr th:only-of-type {\n",
              "        vertical-align: middle;\n",
              "    }\n",
              "\n",
              "    .dataframe tbody tr th {\n",
              "        vertical-align: top;\n",
              "    }\n",
              "\n",
              "    .dataframe thead th {\n",
              "        text-align: right;\n",
              "    }\n",
              "</style>\n",
              "<table border=\"1\" class=\"dataframe\">\n",
              "  <thead>\n",
              "    <tr style=\"text-align: right;\">\n",
              "      <th></th>\n",
              "      <th>grade_school_id</th>\n",
              "      <th>Enrolled Count 2019</th>\n",
              "      <th>Enrolled Count 2020</th>\n",
              "      <th>pct_change</th>\n",
              "    </tr>\n",
              "  </thead>\n",
              "  <tbody>\n",
              "    <tr>\n",
              "      <th>0</th>\n",
              "      <td>PrekindergartenFlintstone Elementary</td>\n",
              "      <td>13</td>\n",
              "      <td>19.0</td>\n",
              "      <td>0.461538</td>\n",
              "    </tr>\n",
              "    <tr>\n",
              "      <th>1</th>\n",
              "      <td>KindergartenFlintstone Elementary</td>\n",
              "      <td>31</td>\n",
              "      <td>28.0</td>\n",
              "      <td>-0.096774</td>\n",
              "    </tr>\n",
              "    <tr>\n",
              "      <th>2</th>\n",
              "      <td>Grade 1Flintstone Elementary</td>\n",
              "      <td>36</td>\n",
              "      <td>31.0</td>\n",
              "      <td>-0.138889</td>\n",
              "    </tr>\n",
              "    <tr>\n",
              "      <th>3</th>\n",
              "      <td>Grade 2Flintstone Elementary</td>\n",
              "      <td>28</td>\n",
              "      <td>40.0</td>\n",
              "      <td>0.428571</td>\n",
              "    </tr>\n",
              "    <tr>\n",
              "      <th>4</th>\n",
              "      <td>Grade 3Flintstone Elementary</td>\n",
              "      <td>40</td>\n",
              "      <td>30.0</td>\n",
              "      <td>-0.250000</td>\n",
              "    </tr>\n",
              "  </tbody>\n",
              "</table>\n",
              "</div>"
            ],
            "text/plain": [
              "                        grade_school_id  ...  pct_change\n",
              "0  PrekindergartenFlintstone Elementary  ...    0.461538\n",
              "1     KindergartenFlintstone Elementary  ...   -0.096774\n",
              "2          Grade 1Flintstone Elementary  ...   -0.138889\n",
              "3          Grade 2Flintstone Elementary  ...    0.428571\n",
              "4          Grade 3Flintstone Elementary  ...   -0.250000\n",
              "\n",
              "[5 rows x 4 columns]"
            ]
          },
          "metadata": {
            "tags": []
          },
          "execution_count": 178
        }
      ]
    },
    {
      "cell_type": "markdown",
      "metadata": {
        "id": "Vdm-QvNZhwkp"
      },
      "source": [
        "## merge percent change values back to original merged data"
      ]
    },
    {
      "cell_type": "code",
      "metadata": {
        "id": "lqiMNWGxhoZI"
      },
      "source": [
        "# merge pct change back to original dataframe\n",
        "df_19_20_merge = pd.merge(df_19_20_merge,\n",
        "                          df_enroll_pctchange[[\"grade_school_id\", \"pct_change\"]], \n",
        "                          how = \"left\", \n",
        "                          on = \"grade_school_id\")"
      ],
      "execution_count": 179,
      "outputs": []
    },
    {
      "cell_type": "code",
      "metadata": {
        "id": "RGIYsA04iIFF",
        "outputId": "1ab0981c-128d-42b0-fbc4-80e94fa87535",
        "colab": {
          "base_uri": "https://localhost:8080/",
          "height": 204
        }
      },
      "source": [
        "# preview data\n",
        "df_19_20_merge.head()"
      ],
      "execution_count": 180,
      "outputs": [
        {
          "output_type": "execute_result",
          "data": {
            "text/html": [
              "<div>\n",
              "<style scoped>\n",
              "    .dataframe tbody tr th:only-of-type {\n",
              "        vertical-align: middle;\n",
              "    }\n",
              "\n",
              "    .dataframe tbody tr th {\n",
              "        vertical-align: top;\n",
              "    }\n",
              "\n",
              "    .dataframe thead th {\n",
              "        text-align: right;\n",
              "    }\n",
              "</style>\n",
              "<table border=\"1\" class=\"dataframe\">\n",
              "  <thead>\n",
              "    <tr style=\"text-align: right;\">\n",
              "      <th></th>\n",
              "      <th>school_id</th>\n",
              "      <th>Academic Year</th>\n",
              "      <th>LSS Number</th>\n",
              "      <th>LSS Name</th>\n",
              "      <th>School Number</th>\n",
              "      <th>School Name</th>\n",
              "      <th>Grade</th>\n",
              "      <th>Enrolled Count 2019</th>\n",
              "      <th>Enrolled Count 2020</th>\n",
              "      <th>grade_school_id</th>\n",
              "      <th>pct_change</th>\n",
              "    </tr>\n",
              "  </thead>\n",
              "  <tbody>\n",
              "    <tr>\n",
              "      <th>0</th>\n",
              "      <td>010301</td>\n",
              "      <td>2019</td>\n",
              "      <td>01</td>\n",
              "      <td>Allegany</td>\n",
              "      <td>0301</td>\n",
              "      <td>Flintstone Elementary</td>\n",
              "      <td>Prekindergarten</td>\n",
              "      <td>13</td>\n",
              "      <td>19.0</td>\n",
              "      <td>PrekindergartenFlintstone Elementary</td>\n",
              "      <td>0.461538</td>\n",
              "    </tr>\n",
              "    <tr>\n",
              "      <th>1</th>\n",
              "      <td>010301</td>\n",
              "      <td>2019</td>\n",
              "      <td>01</td>\n",
              "      <td>Allegany</td>\n",
              "      <td>0301</td>\n",
              "      <td>Flintstone Elementary</td>\n",
              "      <td>Prekindergarten</td>\n",
              "      <td>13</td>\n",
              "      <td>19.0</td>\n",
              "      <td>PrekindergartenFlintstone Elementary</td>\n",
              "      <td>0.052632</td>\n",
              "    </tr>\n",
              "    <tr>\n",
              "      <th>2</th>\n",
              "      <td>010301</td>\n",
              "      <td>2019</td>\n",
              "      <td>01</td>\n",
              "      <td>Allegany</td>\n",
              "      <td>0301</td>\n",
              "      <td>Flintstone Elementary</td>\n",
              "      <td>Kindergarten</td>\n",
              "      <td>31</td>\n",
              "      <td>28.0</td>\n",
              "      <td>KindergartenFlintstone Elementary</td>\n",
              "      <td>-0.096774</td>\n",
              "    </tr>\n",
              "    <tr>\n",
              "      <th>3</th>\n",
              "      <td>010301</td>\n",
              "      <td>2019</td>\n",
              "      <td>01</td>\n",
              "      <td>Allegany</td>\n",
              "      <td>0301</td>\n",
              "      <td>Flintstone Elementary</td>\n",
              "      <td>Kindergarten</td>\n",
              "      <td>31</td>\n",
              "      <td>28.0</td>\n",
              "      <td>KindergartenFlintstone Elementary</td>\n",
              "      <td>0.045455</td>\n",
              "    </tr>\n",
              "    <tr>\n",
              "      <th>4</th>\n",
              "      <td>010301</td>\n",
              "      <td>2019</td>\n",
              "      <td>01</td>\n",
              "      <td>Allegany</td>\n",
              "      <td>0301</td>\n",
              "      <td>Flintstone Elementary</td>\n",
              "      <td>Grade 1</td>\n",
              "      <td>36</td>\n",
              "      <td>31.0</td>\n",
              "      <td>Grade 1Flintstone Elementary</td>\n",
              "      <td>-0.138889</td>\n",
              "    </tr>\n",
              "  </tbody>\n",
              "</table>\n",
              "</div>"
            ],
            "text/plain": [
              "  school_id  Academic Year  ...                       grade_school_id pct_change\n",
              "0    010301           2019  ...  PrekindergartenFlintstone Elementary   0.461538\n",
              "1    010301           2019  ...  PrekindergartenFlintstone Elementary   0.052632\n",
              "2    010301           2019  ...     KindergartenFlintstone Elementary  -0.096774\n",
              "3    010301           2019  ...     KindergartenFlintstone Elementary   0.045455\n",
              "4    010301           2019  ...          Grade 1Flintstone Elementary  -0.138889\n",
              "\n",
              "[5 rows x 11 columns]"
            ]
          },
          "metadata": {
            "tags": []
          },
          "execution_count": 180
        }
      ]
    },
    {
      "cell_type": "code",
      "metadata": {
        "id": "AkQH6KW5iPhe"
      },
      "source": [
        "# rearrange df to have numbers together\n",
        "df_19_20_merge = df_19_20_merge[[ 'school_id',\n",
        "                                \"grade_school_id\",\n",
        "                                'Academic Year',\n",
        " 'LSS Number',\n",
        " 'LSS Name',\n",
        " 'School Number',\n",
        " 'School Name',\n",
        " 'Grade',\n",
        " 'Enrolled Count 2019',\n",
        " 'Enrolled Count 2020',\n",
        " \"pct_change\"]]"
      ],
      "execution_count": 87,
      "outputs": []
    },
    {
      "cell_type": "markdown",
      "metadata": {
        "id": "ywHDun1CjN-h"
      },
      "source": [
        "## export data as csv"
      ]
    },
    {
      "cell_type": "code",
      "metadata": {
        "id": "35ZZRQnoiyWv"
      },
      "source": [
        "# export merged data as a csv\n",
        "df_19_20_merge.to_csv(\"2019_2020_md_school_enrollment.csv\", index = False)"
      ],
      "execution_count": 181,
      "outputs": []
    },
    {
      "cell_type": "code",
      "metadata": {
        "id": "XnBzReIbjbn8",
        "outputId": "e95da610-b04b-4585-c2d1-2a5e2e80e271",
        "colab": {
          "base_uri": "https://localhost:8080/",
          "height": 17
        }
      },
      "source": [
        "#download the csv in computer downloads file\n",
        "files.download(\"2019_2020_md_school_enrollment.csv\")"
      ],
      "execution_count": 182,
      "outputs": [
        {
          "output_type": "display_data",
          "data": {
            "application/javascript": [
              "\n",
              "    async function download(id, filename, size) {\n",
              "      if (!google.colab.kernel.accessAllowed) {\n",
              "        return;\n",
              "      }\n",
              "      const div = document.createElement('div');\n",
              "      const label = document.createElement('label');\n",
              "      label.textContent = `Downloading \"${filename}\": `;\n",
              "      div.appendChild(label);\n",
              "      const progress = document.createElement('progress');\n",
              "      progress.max = size;\n",
              "      div.appendChild(progress);\n",
              "      document.body.appendChild(div);\n",
              "\n",
              "      const buffers = [];\n",
              "      let downloaded = 0;\n",
              "\n",
              "      const channel = await google.colab.kernel.comms.open(id);\n",
              "      // Send a message to notify the kernel that we're ready.\n",
              "      channel.send({})\n",
              "\n",
              "      for await (const message of channel.messages) {\n",
              "        // Send a message to notify the kernel that we're ready.\n",
              "        channel.send({})\n",
              "        if (message.buffers) {\n",
              "          for (const buffer of message.buffers) {\n",
              "            buffers.push(buffer);\n",
              "            downloaded += buffer.byteLength;\n",
              "            progress.value = downloaded;\n",
              "          }\n",
              "        }\n",
              "      }\n",
              "      const blob = new Blob(buffers, {type: 'application/binary'});\n",
              "      const a = document.createElement('a');\n",
              "      a.href = window.URL.createObjectURL(blob);\n",
              "      a.download = filename;\n",
              "      div.appendChild(a);\n",
              "      a.click();\n",
              "      div.remove();\n",
              "    }\n",
              "  "
            ],
            "text/plain": [
              "<IPython.core.display.Javascript object>"
            ]
          },
          "metadata": {
            "tags": []
          }
        },
        {
          "output_type": "display_data",
          "data": {
            "application/javascript": [
              "download(\"download_4e266e9c-9942-4d04-a020-a8918c2a8264\", \"2019_2020_md_school_enrollment.csv\", 1248199)"
            ],
            "text/plain": [
              "<IPython.core.display.Javascript object>"
            ]
          },
          "metadata": {
            "tags": []
          }
        }
      ]
    },
    {
      "cell_type": "markdown",
      "metadata": {
        "id": "0InoJrz2sTib"
      },
      "source": [
        "# Merge School Type onto df"
      ]
    },
    {
      "cell_type": "code",
      "metadata": {
        "id": "EtcLeCP1jqu6",
        "outputId": "377140ec-3e28-4e69-ed10-e002a7abb75f",
        "colab": {
          "base_uri": "https://localhost:8080/",
          "height": 306
        }
      },
      "source": [
        "# attendance data\n",
        "df_19_attend.head()"
      ],
      "execution_count": 183,
      "outputs": [
        {
          "output_type": "execute_result",
          "data": {
            "text/html": [
              "<div>\n",
              "<style scoped>\n",
              "    .dataframe tbody tr th:only-of-type {\n",
              "        vertical-align: middle;\n",
              "    }\n",
              "\n",
              "    .dataframe tbody tr th {\n",
              "        vertical-align: top;\n",
              "    }\n",
              "\n",
              "    .dataframe thead th {\n",
              "        text-align: right;\n",
              "    }\n",
              "</style>\n",
              "<table border=\"1\" class=\"dataframe\">\n",
              "  <thead>\n",
              "    <tr style=\"text-align: right;\">\n",
              "      <th></th>\n",
              "      <th>Academic Year</th>\n",
              "      <th>LSS Number</th>\n",
              "      <th>LSS Name</th>\n",
              "      <th>School Number</th>\n",
              "      <th>School Name</th>\n",
              "      <th>School Type</th>\n",
              "      <th>Attend Rate Pct</th>\n",
              "      <th>Days Attended Cnt</th>\n",
              "      <th>Days Member Cnt</th>\n",
              "      <th>Fewer 5 Pct</th>\n",
              "      <th>Fewer 5 Cnt</th>\n",
              "      <th>More 20 Pct</th>\n",
              "      <th>More 20 Cnt</th>\n",
              "      <th>More 90 Member Cnt</th>\n",
              "      <th>Chronic Absentee Cnt</th>\n",
              "      <th>Chronic Absentee Denom</th>\n",
              "      <th>Chronic Absentee Pct</th>\n",
              "      <th>Create Date</th>\n",
              "    </tr>\n",
              "  </thead>\n",
              "  <tbody>\n",
              "    <tr>\n",
              "      <th>0</th>\n",
              "      <td>2019</td>\n",
              "      <td>01</td>\n",
              "      <td>Allegany</td>\n",
              "      <td>0301</td>\n",
              "      <td>Flintstone Elementary</td>\n",
              "      <td>Elementary</td>\n",
              "      <td>&gt;= 95.0</td>\n",
              "      <td>*</td>\n",
              "      <td>*</td>\n",
              "      <td>26.8</td>\n",
              "      <td>49</td>\n",
              "      <td>7.7</td>\n",
              "      <td>14</td>\n",
              "      <td>183</td>\n",
              "      <td>23</td>\n",
              "      <td>220</td>\n",
              "      <td>10.5</td>\n",
              "      <td>20200117</td>\n",
              "    </tr>\n",
              "    <tr>\n",
              "      <th>1</th>\n",
              "      <td>2019</td>\n",
              "      <td>01</td>\n",
              "      <td>Allegany</td>\n",
              "      <td>0401</td>\n",
              "      <td>South Penn Elementary</td>\n",
              "      <td>Elementary</td>\n",
              "      <td>92.7</td>\n",
              "      <td>51810.5</td>\n",
              "      <td>55876</td>\n",
              "      <td>18.2</td>\n",
              "      <td>74</td>\n",
              "      <td>20.1</td>\n",
              "      <td>82</td>\n",
              "      <td>407</td>\n",
              "      <td>147</td>\n",
              "      <td>539</td>\n",
              "      <td>27.3</td>\n",
              "      <td>20200117</td>\n",
              "    </tr>\n",
              "    <tr>\n",
              "      <th>2</th>\n",
              "      <td>2019</td>\n",
              "      <td>01</td>\n",
              "      <td>Allegany</td>\n",
              "      <td>0402</td>\n",
              "      <td>John Humbird Elementary</td>\n",
              "      <td>Elementary</td>\n",
              "      <td>92.7</td>\n",
              "      <td>26813.0</td>\n",
              "      <td>28916</td>\n",
              "      <td>20.2</td>\n",
              "      <td>42</td>\n",
              "      <td>18.8</td>\n",
              "      <td>39</td>\n",
              "      <td>208</td>\n",
              "      <td>65</td>\n",
              "      <td>264</td>\n",
              "      <td>24.6</td>\n",
              "      <td>20200117</td>\n",
              "    </tr>\n",
              "    <tr>\n",
              "      <th>3</th>\n",
              "      <td>2019</td>\n",
              "      <td>01</td>\n",
              "      <td>Allegany</td>\n",
              "      <td>0405</td>\n",
              "      <td>Fort Hill High</td>\n",
              "      <td>High</td>\n",
              "      <td>91.5</td>\n",
              "      <td>89127.5</td>\n",
              "      <td>97454</td>\n",
              "      <td>20.9</td>\n",
              "      <td>146</td>\n",
              "      <td>23.6</td>\n",
              "      <td>165</td>\n",
              "      <td>700</td>\n",
              "      <td>235</td>\n",
              "      <td>746</td>\n",
              "      <td>31.5</td>\n",
              "      <td>20200117</td>\n",
              "    </tr>\n",
              "    <tr>\n",
              "      <th>4</th>\n",
              "      <td>2019</td>\n",
              "      <td>01</td>\n",
              "      <td>Allegany</td>\n",
              "      <td>0406</td>\n",
              "      <td>Washington Middle</td>\n",
              "      <td>Middle</td>\n",
              "      <td>92.4</td>\n",
              "      <td>75004.0</td>\n",
              "      <td>81182</td>\n",
              "      <td>18.6</td>\n",
              "      <td>109</td>\n",
              "      <td>19.6</td>\n",
              "      <td>115</td>\n",
              "      <td>586</td>\n",
              "      <td>179</td>\n",
              "      <td>627</td>\n",
              "      <td>28.5</td>\n",
              "      <td>20200117</td>\n",
              "    </tr>\n",
              "  </tbody>\n",
              "</table>\n",
              "</div>"
            ],
            "text/plain": [
              "   Academic Year LSS Number  ... Chronic Absentee Pct Create Date\n",
              "0           2019         01  ...                 10.5    20200117\n",
              "1           2019         01  ...                 27.3    20200117\n",
              "2           2019         01  ...                 24.6    20200117\n",
              "3           2019         01  ...                 31.5    20200117\n",
              "4           2019         01  ...                 28.5    20200117\n",
              "\n",
              "[5 rows x 18 columns]"
            ]
          },
          "metadata": {
            "tags": []
          },
          "execution_count": 183
        }
      ]
    },
    {
      "cell_type": "code",
      "metadata": {
        "id": "iRg1pa0HsaNs"
      },
      "source": [
        "# make school id column\n",
        "df_19_attend[\"school_id\"] = df_19_attend[\"LSS Number\"] + df_19_attend[\"School Number\"]"
      ],
      "execution_count": 184,
      "outputs": []
    },
    {
      "cell_type": "code",
      "metadata": {
        "id": "S-8HzT9GsvfJ"
      },
      "source": [
        "# merge school type onto merged dataset\n",
        "df_19_20_merge = pd.merge(df_19_20_merge, \n",
        "                          df_19_attend[[\"school_id\", \"School Type\"]],\n",
        "                          how = \"left\",\n",
        "                          on = \"school_id\")"
      ],
      "execution_count": 185,
      "outputs": []
    },
    {
      "cell_type": "code",
      "metadata": {
        "id": "Xak7qNpWtMva",
        "outputId": "f2dea261-7d61-4b44-f9ec-8cd826956937",
        "colab": {
          "base_uri": "https://localhost:8080/",
          "height": 204
        }
      },
      "source": [
        "df_19_20_merge.head()"
      ],
      "execution_count": 187,
      "outputs": [
        {
          "output_type": "execute_result",
          "data": {
            "text/html": [
              "<div>\n",
              "<style scoped>\n",
              "    .dataframe tbody tr th:only-of-type {\n",
              "        vertical-align: middle;\n",
              "    }\n",
              "\n",
              "    .dataframe tbody tr th {\n",
              "        vertical-align: top;\n",
              "    }\n",
              "\n",
              "    .dataframe thead th {\n",
              "        text-align: right;\n",
              "    }\n",
              "</style>\n",
              "<table border=\"1\" class=\"dataframe\">\n",
              "  <thead>\n",
              "    <tr style=\"text-align: right;\">\n",
              "      <th></th>\n",
              "      <th>school_id</th>\n",
              "      <th>Academic Year</th>\n",
              "      <th>LSS Number</th>\n",
              "      <th>LSS Name</th>\n",
              "      <th>School Number</th>\n",
              "      <th>School Name</th>\n",
              "      <th>Grade</th>\n",
              "      <th>Enrolled Count 2019</th>\n",
              "      <th>Enrolled Count 2020</th>\n",
              "      <th>grade_school_id</th>\n",
              "      <th>pct_change</th>\n",
              "      <th>School Type</th>\n",
              "    </tr>\n",
              "  </thead>\n",
              "  <tbody>\n",
              "    <tr>\n",
              "      <th>0</th>\n",
              "      <td>010301</td>\n",
              "      <td>2019</td>\n",
              "      <td>01</td>\n",
              "      <td>Allegany</td>\n",
              "      <td>0301</td>\n",
              "      <td>Flintstone Elementary</td>\n",
              "      <td>Prekindergarten</td>\n",
              "      <td>13</td>\n",
              "      <td>19.0</td>\n",
              "      <td>PrekindergartenFlintstone Elementary</td>\n",
              "      <td>0.461538</td>\n",
              "      <td>Elementary</td>\n",
              "    </tr>\n",
              "    <tr>\n",
              "      <th>1</th>\n",
              "      <td>010301</td>\n",
              "      <td>2019</td>\n",
              "      <td>01</td>\n",
              "      <td>Allegany</td>\n",
              "      <td>0301</td>\n",
              "      <td>Flintstone Elementary</td>\n",
              "      <td>Prekindergarten</td>\n",
              "      <td>13</td>\n",
              "      <td>19.0</td>\n",
              "      <td>PrekindergartenFlintstone Elementary</td>\n",
              "      <td>0.052632</td>\n",
              "      <td>Elementary</td>\n",
              "    </tr>\n",
              "    <tr>\n",
              "      <th>2</th>\n",
              "      <td>010301</td>\n",
              "      <td>2019</td>\n",
              "      <td>01</td>\n",
              "      <td>Allegany</td>\n",
              "      <td>0301</td>\n",
              "      <td>Flintstone Elementary</td>\n",
              "      <td>Kindergarten</td>\n",
              "      <td>31</td>\n",
              "      <td>28.0</td>\n",
              "      <td>KindergartenFlintstone Elementary</td>\n",
              "      <td>-0.096774</td>\n",
              "      <td>Elementary</td>\n",
              "    </tr>\n",
              "    <tr>\n",
              "      <th>3</th>\n",
              "      <td>010301</td>\n",
              "      <td>2019</td>\n",
              "      <td>01</td>\n",
              "      <td>Allegany</td>\n",
              "      <td>0301</td>\n",
              "      <td>Flintstone Elementary</td>\n",
              "      <td>Kindergarten</td>\n",
              "      <td>31</td>\n",
              "      <td>28.0</td>\n",
              "      <td>KindergartenFlintstone Elementary</td>\n",
              "      <td>0.045455</td>\n",
              "      <td>Elementary</td>\n",
              "    </tr>\n",
              "    <tr>\n",
              "      <th>4</th>\n",
              "      <td>010301</td>\n",
              "      <td>2019</td>\n",
              "      <td>01</td>\n",
              "      <td>Allegany</td>\n",
              "      <td>0301</td>\n",
              "      <td>Flintstone Elementary</td>\n",
              "      <td>Grade 1</td>\n",
              "      <td>36</td>\n",
              "      <td>31.0</td>\n",
              "      <td>Grade 1Flintstone Elementary</td>\n",
              "      <td>-0.138889</td>\n",
              "      <td>Elementary</td>\n",
              "    </tr>\n",
              "  </tbody>\n",
              "</table>\n",
              "</div>"
            ],
            "text/plain": [
              "  school_id  Academic Year  ... pct_change School Type\n",
              "0    010301           2019  ...   0.461538  Elementary\n",
              "1    010301           2019  ...   0.052632  Elementary\n",
              "2    010301           2019  ...  -0.096774  Elementary\n",
              "3    010301           2019  ...   0.045455  Elementary\n",
              "4    010301           2019  ...  -0.138889  Elementary\n",
              "\n",
              "[5 rows x 12 columns]"
            ]
          },
          "metadata": {
            "tags": []
          },
          "execution_count": 187
        }
      ]
    },
    {
      "cell_type": "code",
      "metadata": {
        "id": "aqz69s4LtRHn"
      },
      "source": [
        "# drop duplicates based on grade schoool id\n",
        "df_19_20_merge = df_19_20_merge.drop_duplicates(subset = \"grade_school_id\", keep = \"first\")"
      ],
      "execution_count": 188,
      "outputs": []
    },
    {
      "cell_type": "code",
      "metadata": {
        "id": "ciEMgAC2zU5Y",
        "outputId": "fd97b677-a044-4bbc-d4e8-efb71fdd40e5",
        "colab": {
          "base_uri": "https://localhost:8080/",
          "height": 359
        }
      },
      "source": [
        "# preview data\n",
        "df_19_20_merge.head(10)"
      ],
      "execution_count": 189,
      "outputs": [
        {
          "output_type": "execute_result",
          "data": {
            "text/html": [
              "<div>\n",
              "<style scoped>\n",
              "    .dataframe tbody tr th:only-of-type {\n",
              "        vertical-align: middle;\n",
              "    }\n",
              "\n",
              "    .dataframe tbody tr th {\n",
              "        vertical-align: top;\n",
              "    }\n",
              "\n",
              "    .dataframe thead th {\n",
              "        text-align: right;\n",
              "    }\n",
              "</style>\n",
              "<table border=\"1\" class=\"dataframe\">\n",
              "  <thead>\n",
              "    <tr style=\"text-align: right;\">\n",
              "      <th></th>\n",
              "      <th>school_id</th>\n",
              "      <th>Academic Year</th>\n",
              "      <th>LSS Number</th>\n",
              "      <th>LSS Name</th>\n",
              "      <th>School Number</th>\n",
              "      <th>School Name</th>\n",
              "      <th>Grade</th>\n",
              "      <th>Enrolled Count 2019</th>\n",
              "      <th>Enrolled Count 2020</th>\n",
              "      <th>grade_school_id</th>\n",
              "      <th>pct_change</th>\n",
              "      <th>School Type</th>\n",
              "    </tr>\n",
              "  </thead>\n",
              "  <tbody>\n",
              "    <tr>\n",
              "      <th>0</th>\n",
              "      <td>010301</td>\n",
              "      <td>2019</td>\n",
              "      <td>01</td>\n",
              "      <td>Allegany</td>\n",
              "      <td>0301</td>\n",
              "      <td>Flintstone Elementary</td>\n",
              "      <td>Prekindergarten</td>\n",
              "      <td>13</td>\n",
              "      <td>19.0</td>\n",
              "      <td>PrekindergartenFlintstone Elementary</td>\n",
              "      <td>0.461538</td>\n",
              "      <td>Elementary</td>\n",
              "    </tr>\n",
              "    <tr>\n",
              "      <th>2</th>\n",
              "      <td>010301</td>\n",
              "      <td>2019</td>\n",
              "      <td>01</td>\n",
              "      <td>Allegany</td>\n",
              "      <td>0301</td>\n",
              "      <td>Flintstone Elementary</td>\n",
              "      <td>Kindergarten</td>\n",
              "      <td>31</td>\n",
              "      <td>28.0</td>\n",
              "      <td>KindergartenFlintstone Elementary</td>\n",
              "      <td>-0.096774</td>\n",
              "      <td>Elementary</td>\n",
              "    </tr>\n",
              "    <tr>\n",
              "      <th>4</th>\n",
              "      <td>010301</td>\n",
              "      <td>2019</td>\n",
              "      <td>01</td>\n",
              "      <td>Allegany</td>\n",
              "      <td>0301</td>\n",
              "      <td>Flintstone Elementary</td>\n",
              "      <td>Grade 1</td>\n",
              "      <td>36</td>\n",
              "      <td>31.0</td>\n",
              "      <td>Grade 1Flintstone Elementary</td>\n",
              "      <td>-0.138889</td>\n",
              "      <td>Elementary</td>\n",
              "    </tr>\n",
              "    <tr>\n",
              "      <th>6</th>\n",
              "      <td>010301</td>\n",
              "      <td>2019</td>\n",
              "      <td>01</td>\n",
              "      <td>Allegany</td>\n",
              "      <td>0301</td>\n",
              "      <td>Flintstone Elementary</td>\n",
              "      <td>Grade 2</td>\n",
              "      <td>28</td>\n",
              "      <td>40.0</td>\n",
              "      <td>Grade 2Flintstone Elementary</td>\n",
              "      <td>0.428571</td>\n",
              "      <td>Elementary</td>\n",
              "    </tr>\n",
              "    <tr>\n",
              "      <th>8</th>\n",
              "      <td>010301</td>\n",
              "      <td>2019</td>\n",
              "      <td>01</td>\n",
              "      <td>Allegany</td>\n",
              "      <td>0301</td>\n",
              "      <td>Flintstone Elementary</td>\n",
              "      <td>Grade 3</td>\n",
              "      <td>40</td>\n",
              "      <td>30.0</td>\n",
              "      <td>Grade 3Flintstone Elementary</td>\n",
              "      <td>-0.250000</td>\n",
              "      <td>Elementary</td>\n",
              "    </tr>\n",
              "    <tr>\n",
              "      <th>10</th>\n",
              "      <td>010301</td>\n",
              "      <td>2019</td>\n",
              "      <td>01</td>\n",
              "      <td>Allegany</td>\n",
              "      <td>0301</td>\n",
              "      <td>Flintstone Elementary</td>\n",
              "      <td>Grade 4</td>\n",
              "      <td>38</td>\n",
              "      <td>38.0</td>\n",
              "      <td>Grade 4Flintstone Elementary</td>\n",
              "      <td>0.000000</td>\n",
              "      <td>Elementary</td>\n",
              "    </tr>\n",
              "    <tr>\n",
              "      <th>12</th>\n",
              "      <td>010301</td>\n",
              "      <td>2019</td>\n",
              "      <td>01</td>\n",
              "      <td>Allegany</td>\n",
              "      <td>0301</td>\n",
              "      <td>Flintstone Elementary</td>\n",
              "      <td>Grade 5</td>\n",
              "      <td>40</td>\n",
              "      <td>35.0</td>\n",
              "      <td>Grade 5Flintstone Elementary</td>\n",
              "      <td>-0.125000</td>\n",
              "      <td>Elementary</td>\n",
              "    </tr>\n",
              "    <tr>\n",
              "      <th>14</th>\n",
              "      <td>010301</td>\n",
              "      <td>2019</td>\n",
              "      <td>01</td>\n",
              "      <td>Allegany</td>\n",
              "      <td>0301</td>\n",
              "      <td>Flintstone Elementary</td>\n",
              "      <td>Total Enrollment</td>\n",
              "      <td>226</td>\n",
              "      <td>221.0</td>\n",
              "      <td>Total EnrollmentFlintstone Elementary</td>\n",
              "      <td>-0.022124</td>\n",
              "      <td>Elementary</td>\n",
              "    </tr>\n",
              "    <tr>\n",
              "      <th>16</th>\n",
              "      <td>010401</td>\n",
              "      <td>2019</td>\n",
              "      <td>01</td>\n",
              "      <td>Allegany</td>\n",
              "      <td>0401</td>\n",
              "      <td>South Penn Elementary</td>\n",
              "      <td>Prekindergarten</td>\n",
              "      <td>76</td>\n",
              "      <td>97.0</td>\n",
              "      <td>PrekindergartenSouth Penn Elementary</td>\n",
              "      <td>0.276316</td>\n",
              "      <td>Elementary</td>\n",
              "    </tr>\n",
              "    <tr>\n",
              "      <th>17</th>\n",
              "      <td>010401</td>\n",
              "      <td>2019</td>\n",
              "      <td>01</td>\n",
              "      <td>Allegany</td>\n",
              "      <td>0401</td>\n",
              "      <td>South Penn Elementary</td>\n",
              "      <td>Kindergarten</td>\n",
              "      <td>93</td>\n",
              "      <td>63.0</td>\n",
              "      <td>KindergartenSouth Penn Elementary</td>\n",
              "      <td>-0.322581</td>\n",
              "      <td>Elementary</td>\n",
              "    </tr>\n",
              "  </tbody>\n",
              "</table>\n",
              "</div>"
            ],
            "text/plain": [
              "   school_id  Academic Year  ... pct_change School Type\n",
              "0     010301           2019  ...   0.461538  Elementary\n",
              "2     010301           2019  ...  -0.096774  Elementary\n",
              "4     010301           2019  ...  -0.138889  Elementary\n",
              "6     010301           2019  ...   0.428571  Elementary\n",
              "8     010301           2019  ...  -0.250000  Elementary\n",
              "10    010301           2019  ...   0.000000  Elementary\n",
              "12    010301           2019  ...  -0.125000  Elementary\n",
              "14    010301           2019  ...  -0.022124  Elementary\n",
              "16    010401           2019  ...   0.276316  Elementary\n",
              "17    010401           2019  ...  -0.322581  Elementary\n",
              "\n",
              "[10 rows x 12 columns]"
            ]
          },
          "metadata": {
            "tags": []
          },
          "execution_count": 189
        }
      ]
    },
    {
      "cell_type": "code",
      "metadata": {
        "id": "Dn0lHygqzXAH"
      },
      "source": [
        "# export this as a csv with the school type\n",
        "df_19_20_merge.to_csv(\"2019_2020_md_school_enrollment_type.csv\", index = False)"
      ],
      "execution_count": 192,
      "outputs": []
    },
    {
      "cell_type": "code",
      "metadata": {
        "id": "ia9lRkWEzld6",
        "outputId": "a1b091b1-1e1b-48de-a315-d05f03390f73",
        "colab": {
          "base_uri": "https://localhost:8080/",
          "height": 17
        }
      },
      "source": [
        "# export the file\n",
        "files.download(\"2019_2020_md_school_enrollment_type.csv\")\n"
      ],
      "execution_count": 193,
      "outputs": [
        {
          "output_type": "display_data",
          "data": {
            "application/javascript": [
              "\n",
              "    async function download(id, filename, size) {\n",
              "      if (!google.colab.kernel.accessAllowed) {\n",
              "        return;\n",
              "      }\n",
              "      const div = document.createElement('div');\n",
              "      const label = document.createElement('label');\n",
              "      label.textContent = `Downloading \"${filename}\": `;\n",
              "      div.appendChild(label);\n",
              "      const progress = document.createElement('progress');\n",
              "      progress.max = size;\n",
              "      div.appendChild(progress);\n",
              "      document.body.appendChild(div);\n",
              "\n",
              "      const buffers = [];\n",
              "      let downloaded = 0;\n",
              "\n",
              "      const channel = await google.colab.kernel.comms.open(id);\n",
              "      // Send a message to notify the kernel that we're ready.\n",
              "      channel.send({})\n",
              "\n",
              "      for await (const message of channel.messages) {\n",
              "        // Send a message to notify the kernel that we're ready.\n",
              "        channel.send({})\n",
              "        if (message.buffers) {\n",
              "          for (const buffer of message.buffers) {\n",
              "            buffers.push(buffer);\n",
              "            downloaded += buffer.byteLength;\n",
              "            progress.value = downloaded;\n",
              "          }\n",
              "        }\n",
              "      }\n",
              "      const blob = new Blob(buffers, {type: 'application/binary'});\n",
              "      const a = document.createElement('a');\n",
              "      a.href = window.URL.createObjectURL(blob);\n",
              "      a.download = filename;\n",
              "      div.appendChild(a);\n",
              "      a.click();\n",
              "      div.remove();\n",
              "    }\n",
              "  "
            ],
            "text/plain": [
              "<IPython.core.display.Javascript object>"
            ]
          },
          "metadata": {
            "tags": []
          }
        },
        {
          "output_type": "display_data",
          "data": {
            "application/javascript": [
              "download(\"download_64e6b345-9645-4260-8e0d-883c7a6d9eb1\", \"2019_2020_md_school_enrollment_type.csv\", 1274593)"
            ],
            "text/plain": [
              "<IPython.core.display.Javascript object>"
            ]
          },
          "metadata": {
            "tags": []
          }
        }
      ]
    },
    {
      "cell_type": "markdown",
      "metadata": {
        "id": "ZuN46yid0BfL"
      },
      "source": [
        "## pivot table with school type"
      ]
    },
    {
      "cell_type": "code",
      "metadata": {
        "id": "-j5Jt9V-zs-s"
      },
      "source": [
        "# pivot table to see average enrolled count 2019, 2020 and average pct change\n",
        "df_pivot_enroll = pd.pivot_table(df_19_20_merge,\n",
        "                                 index = \"School Type\",\n",
        "                                 values = [\"Enrolled Count 2019\", \"Enrolled Count 2020\", \"pct_change\"],\n",
        "                                 aggfunc = np.mean).reset_index()"
      ],
      "execution_count": 196,
      "outputs": []
    },
    {
      "cell_type": "code",
      "metadata": {
        "id": "1P9spm_M0gMt",
        "outputId": "a322067a-54bd-4c77-8970-b2b28c59eac2",
        "colab": {
          "base_uri": "https://localhost:8080/",
          "height": 142
        }
      },
      "source": [
        "#preview data\n",
        "df_pivot_enroll.head(10)"
      ],
      "execution_count": 199,
      "outputs": [
        {
          "output_type": "execute_result",
          "data": {
            "text/html": [
              "<div>\n",
              "<style scoped>\n",
              "    .dataframe tbody tr th:only-of-type {\n",
              "        vertical-align: middle;\n",
              "    }\n",
              "\n",
              "    .dataframe tbody tr th {\n",
              "        vertical-align: top;\n",
              "    }\n",
              "\n",
              "    .dataframe thead th {\n",
              "        text-align: right;\n",
              "    }\n",
              "</style>\n",
              "<table border=\"1\" class=\"dataframe\">\n",
              "  <thead>\n",
              "    <tr style=\"text-align: right;\">\n",
              "      <th></th>\n",
              "      <th>School Type</th>\n",
              "      <th>Enrolled Count 2019</th>\n",
              "      <th>Enrolled Count 2020</th>\n",
              "      <th>pct_change</th>\n",
              "      <th>avg_pct_change</th>\n",
              "    </tr>\n",
              "  </thead>\n",
              "  <tbody>\n",
              "    <tr>\n",
              "      <th>0</th>\n",
              "      <td>Elementary</td>\n",
              "      <td>626.619846</td>\n",
              "      <td>390.926390</td>\n",
              "      <td>0.023271</td>\n",
              "      <td>-0.376135</td>\n",
              "    </tr>\n",
              "    <tr>\n",
              "      <th>1</th>\n",
              "      <td>High</td>\n",
              "      <td>496.024606</td>\n",
              "      <td>509.141575</td>\n",
              "      <td>0.027578</td>\n",
              "      <td>0.026444</td>\n",
              "    </tr>\n",
              "    <tr>\n",
              "      <th>2</th>\n",
              "      <td>Middle</td>\n",
              "      <td>352.743415</td>\n",
              "      <td>366.679563</td>\n",
              "      <td>0.028310</td>\n",
              "      <td>0.039508</td>\n",
              "    </tr>\n",
              "  </tbody>\n",
              "</table>\n",
              "</div>"
            ],
            "text/plain": [
              "  School Type  Enrolled Count 2019  ...  pct_change  avg_pct_change\n",
              "0  Elementary           626.619846  ...    0.023271       -0.376135\n",
              "1        High           496.024606  ...    0.027578        0.026444\n",
              "2      Middle           352.743415  ...    0.028310        0.039508\n",
              "\n",
              "[3 rows x 5 columns]"
            ]
          },
          "metadata": {
            "tags": []
          },
          "execution_count": 199
        }
      ]
    },
    {
      "cell_type": "code",
      "metadata": {
        "id": "T_H9gOvp0iry"
      },
      "source": [
        "# add in percent change of averages\n",
        "df_pivot_enroll[\"avg_pct_change\"] = -1*((df_pivot_enroll[\"Enrolled Count 2019\"] - df_pivot_enroll[\"Enrolled Count 2020\"])/df_pivot_enroll[\"Enrolled Count 2019\"])"
      ],
      "execution_count": 198,
      "outputs": []
    },
    {
      "cell_type": "markdown",
      "metadata": {
        "id": "S50Hlkd_6XQ6"
      },
      "source": [
        "# Aggregate by Groupby"
      ]
    },
    {
      "cell_type": "markdown",
      "metadata": {
        "id": "FU2dQbG76ZwP"
      },
      "source": [
        "## Aggregate in a new, condensed dataframe"
      ]
    },
    {
      "cell_type": "code",
      "metadata": {
        "id": "vYP8SJpi1I4a",
        "outputId": "22a42acc-c6da-4662-d5b9-fa3da68b445e",
        "colab": {
          "base_uri": "https://localhost:8080/",
          "height": 359
        }
      },
      "source": [
        "# preview data\n",
        "df_19_20_merge.head(10)"
      ],
      "execution_count": 201,
      "outputs": [
        {
          "output_type": "execute_result",
          "data": {
            "text/html": [
              "<div>\n",
              "<style scoped>\n",
              "    .dataframe tbody tr th:only-of-type {\n",
              "        vertical-align: middle;\n",
              "    }\n",
              "\n",
              "    .dataframe tbody tr th {\n",
              "        vertical-align: top;\n",
              "    }\n",
              "\n",
              "    .dataframe thead th {\n",
              "        text-align: right;\n",
              "    }\n",
              "</style>\n",
              "<table border=\"1\" class=\"dataframe\">\n",
              "  <thead>\n",
              "    <tr style=\"text-align: right;\">\n",
              "      <th></th>\n",
              "      <th>school_id</th>\n",
              "      <th>Academic Year</th>\n",
              "      <th>LSS Number</th>\n",
              "      <th>LSS Name</th>\n",
              "      <th>School Number</th>\n",
              "      <th>School Name</th>\n",
              "      <th>Grade</th>\n",
              "      <th>Enrolled Count 2019</th>\n",
              "      <th>Enrolled Count 2020</th>\n",
              "      <th>grade_school_id</th>\n",
              "      <th>pct_change</th>\n",
              "      <th>School Type</th>\n",
              "    </tr>\n",
              "  </thead>\n",
              "  <tbody>\n",
              "    <tr>\n",
              "      <th>0</th>\n",
              "      <td>010301</td>\n",
              "      <td>2019</td>\n",
              "      <td>01</td>\n",
              "      <td>Allegany</td>\n",
              "      <td>0301</td>\n",
              "      <td>Flintstone Elementary</td>\n",
              "      <td>Prekindergarten</td>\n",
              "      <td>13</td>\n",
              "      <td>19.0</td>\n",
              "      <td>PrekindergartenFlintstone Elementary</td>\n",
              "      <td>0.461538</td>\n",
              "      <td>Elementary</td>\n",
              "    </tr>\n",
              "    <tr>\n",
              "      <th>2</th>\n",
              "      <td>010301</td>\n",
              "      <td>2019</td>\n",
              "      <td>01</td>\n",
              "      <td>Allegany</td>\n",
              "      <td>0301</td>\n",
              "      <td>Flintstone Elementary</td>\n",
              "      <td>Kindergarten</td>\n",
              "      <td>31</td>\n",
              "      <td>28.0</td>\n",
              "      <td>KindergartenFlintstone Elementary</td>\n",
              "      <td>-0.096774</td>\n",
              "      <td>Elementary</td>\n",
              "    </tr>\n",
              "    <tr>\n",
              "      <th>4</th>\n",
              "      <td>010301</td>\n",
              "      <td>2019</td>\n",
              "      <td>01</td>\n",
              "      <td>Allegany</td>\n",
              "      <td>0301</td>\n",
              "      <td>Flintstone Elementary</td>\n",
              "      <td>Grade 1</td>\n",
              "      <td>36</td>\n",
              "      <td>31.0</td>\n",
              "      <td>Grade 1Flintstone Elementary</td>\n",
              "      <td>-0.138889</td>\n",
              "      <td>Elementary</td>\n",
              "    </tr>\n",
              "    <tr>\n",
              "      <th>6</th>\n",
              "      <td>010301</td>\n",
              "      <td>2019</td>\n",
              "      <td>01</td>\n",
              "      <td>Allegany</td>\n",
              "      <td>0301</td>\n",
              "      <td>Flintstone Elementary</td>\n",
              "      <td>Grade 2</td>\n",
              "      <td>28</td>\n",
              "      <td>40.0</td>\n",
              "      <td>Grade 2Flintstone Elementary</td>\n",
              "      <td>0.428571</td>\n",
              "      <td>Elementary</td>\n",
              "    </tr>\n",
              "    <tr>\n",
              "      <th>8</th>\n",
              "      <td>010301</td>\n",
              "      <td>2019</td>\n",
              "      <td>01</td>\n",
              "      <td>Allegany</td>\n",
              "      <td>0301</td>\n",
              "      <td>Flintstone Elementary</td>\n",
              "      <td>Grade 3</td>\n",
              "      <td>40</td>\n",
              "      <td>30.0</td>\n",
              "      <td>Grade 3Flintstone Elementary</td>\n",
              "      <td>-0.250000</td>\n",
              "      <td>Elementary</td>\n",
              "    </tr>\n",
              "    <tr>\n",
              "      <th>10</th>\n",
              "      <td>010301</td>\n",
              "      <td>2019</td>\n",
              "      <td>01</td>\n",
              "      <td>Allegany</td>\n",
              "      <td>0301</td>\n",
              "      <td>Flintstone Elementary</td>\n",
              "      <td>Grade 4</td>\n",
              "      <td>38</td>\n",
              "      <td>38.0</td>\n",
              "      <td>Grade 4Flintstone Elementary</td>\n",
              "      <td>0.000000</td>\n",
              "      <td>Elementary</td>\n",
              "    </tr>\n",
              "    <tr>\n",
              "      <th>12</th>\n",
              "      <td>010301</td>\n",
              "      <td>2019</td>\n",
              "      <td>01</td>\n",
              "      <td>Allegany</td>\n",
              "      <td>0301</td>\n",
              "      <td>Flintstone Elementary</td>\n",
              "      <td>Grade 5</td>\n",
              "      <td>40</td>\n",
              "      <td>35.0</td>\n",
              "      <td>Grade 5Flintstone Elementary</td>\n",
              "      <td>-0.125000</td>\n",
              "      <td>Elementary</td>\n",
              "    </tr>\n",
              "    <tr>\n",
              "      <th>14</th>\n",
              "      <td>010301</td>\n",
              "      <td>2019</td>\n",
              "      <td>01</td>\n",
              "      <td>Allegany</td>\n",
              "      <td>0301</td>\n",
              "      <td>Flintstone Elementary</td>\n",
              "      <td>Total Enrollment</td>\n",
              "      <td>226</td>\n",
              "      <td>221.0</td>\n",
              "      <td>Total EnrollmentFlintstone Elementary</td>\n",
              "      <td>-0.022124</td>\n",
              "      <td>Elementary</td>\n",
              "    </tr>\n",
              "    <tr>\n",
              "      <th>16</th>\n",
              "      <td>010401</td>\n",
              "      <td>2019</td>\n",
              "      <td>01</td>\n",
              "      <td>Allegany</td>\n",
              "      <td>0401</td>\n",
              "      <td>South Penn Elementary</td>\n",
              "      <td>Prekindergarten</td>\n",
              "      <td>76</td>\n",
              "      <td>97.0</td>\n",
              "      <td>PrekindergartenSouth Penn Elementary</td>\n",
              "      <td>0.276316</td>\n",
              "      <td>Elementary</td>\n",
              "    </tr>\n",
              "    <tr>\n",
              "      <th>17</th>\n",
              "      <td>010401</td>\n",
              "      <td>2019</td>\n",
              "      <td>01</td>\n",
              "      <td>Allegany</td>\n",
              "      <td>0401</td>\n",
              "      <td>South Penn Elementary</td>\n",
              "      <td>Kindergarten</td>\n",
              "      <td>93</td>\n",
              "      <td>63.0</td>\n",
              "      <td>KindergartenSouth Penn Elementary</td>\n",
              "      <td>-0.322581</td>\n",
              "      <td>Elementary</td>\n",
              "    </tr>\n",
              "  </tbody>\n",
              "</table>\n",
              "</div>"
            ],
            "text/plain": [
              "   school_id  Academic Year  ... pct_change School Type\n",
              "0     010301           2019  ...   0.461538  Elementary\n",
              "2     010301           2019  ...  -0.096774  Elementary\n",
              "4     010301           2019  ...  -0.138889  Elementary\n",
              "6     010301           2019  ...   0.428571  Elementary\n",
              "8     010301           2019  ...  -0.250000  Elementary\n",
              "10    010301           2019  ...   0.000000  Elementary\n",
              "12    010301           2019  ...  -0.125000  Elementary\n",
              "14    010301           2019  ...  -0.022124  Elementary\n",
              "16    010401           2019  ...   0.276316  Elementary\n",
              "17    010401           2019  ...  -0.322581  Elementary\n",
              "\n",
              "[10 rows x 12 columns]"
            ]
          },
          "metadata": {
            "tags": []
          },
          "execution_count": 201
        }
      ]
    },
    {
      "cell_type": "code",
      "metadata": {
        "id": "qHttbRRK6hdy",
        "outputId": "dd586b4e-bf28-468c-8cba-57d74f4e25f8",
        "colab": {
          "base_uri": "https://localhost:8080/"
        }
      },
      "source": [
        "# make an aggregated table grouped by district name and grade level\n",
        "df_agg_district_grade = df_19_20_merge.groupby([\"LSS Name\", \"Grade\"])[\"Enrolled Count 2019\", \"Enrolled Count 2020\", \"pct_change\"].agg([\"mean\"]).reset_index()"
      ],
      "execution_count": 206,
      "outputs": [
        {
          "output_type": "stream",
          "text": [
            "/usr/local/lib/python3.6/dist-packages/ipykernel_launcher.py:2: FutureWarning: Indexing with multiple keys (implicitly converted to a tuple of keys) will be deprecated, use a list instead.\n",
            "  \n"
          ],
          "name": "stderr"
        }
      ]
    },
    {
      "cell_type": "code",
      "metadata": {
        "id": "IEkdcFRo7aGu",
        "outputId": "255b14af-2898-4b86-83d6-14fd6bb07473",
        "colab": {
          "base_uri": "https://localhost:8080/",
          "height": 390
        }
      },
      "source": [
        "# preview data\n",
        "df_agg_district_grade.tail(10)"
      ],
      "execution_count": 208,
      "outputs": [
        {
          "output_type": "execute_result",
          "data": {
            "text/html": [
              "<div>\n",
              "<style scoped>\n",
              "    .dataframe tbody tr th:only-of-type {\n",
              "        vertical-align: middle;\n",
              "    }\n",
              "\n",
              "    .dataframe tbody tr th {\n",
              "        vertical-align: top;\n",
              "    }\n",
              "\n",
              "    .dataframe thead tr th {\n",
              "        text-align: left;\n",
              "    }\n",
              "</style>\n",
              "<table border=\"1\" class=\"dataframe\">\n",
              "  <thead>\n",
              "    <tr>\n",
              "      <th></th>\n",
              "      <th>LSS Name</th>\n",
              "      <th>Grade</th>\n",
              "      <th>Enrolled Count 2019</th>\n",
              "      <th>Enrolled Count 2020</th>\n",
              "      <th>pct_change</th>\n",
              "    </tr>\n",
              "    <tr>\n",
              "      <th></th>\n",
              "      <th></th>\n",
              "      <th></th>\n",
              "      <th>mean</th>\n",
              "      <th>mean</th>\n",
              "      <th>mean</th>\n",
              "    </tr>\n",
              "  </thead>\n",
              "  <tbody>\n",
              "    <tr>\n",
              "      <th>438</th>\n",
              "      <td>Worcester</td>\n",
              "      <td>Grade 5</td>\n",
              "      <td>165.000000</td>\n",
              "      <td>169.333333</td>\n",
              "      <td>0.042335</td>\n",
              "    </tr>\n",
              "    <tr>\n",
              "      <th>439</th>\n",
              "      <td>Worcester</td>\n",
              "      <td>Grade 6</td>\n",
              "      <td>172.333333</td>\n",
              "      <td>168.000000</td>\n",
              "      <td>0.063291</td>\n",
              "    </tr>\n",
              "    <tr>\n",
              "      <th>440</th>\n",
              "      <td>Worcester</td>\n",
              "      <td>Grade 7</td>\n",
              "      <td>75.500000</td>\n",
              "      <td>75.000000</td>\n",
              "      <td>-0.002038</td>\n",
              "    </tr>\n",
              "    <tr>\n",
              "      <th>441</th>\n",
              "      <td>Worcester</td>\n",
              "      <td>Grade 8</td>\n",
              "      <td>85.500000</td>\n",
              "      <td>79.000000</td>\n",
              "      <td>-0.070673</td>\n",
              "    </tr>\n",
              "    <tr>\n",
              "      <th>442</th>\n",
              "      <td>Worcester</td>\n",
              "      <td>Grade 9</td>\n",
              "      <td>164.666667</td>\n",
              "      <td>181.000000</td>\n",
              "      <td>0.096277</td>\n",
              "    </tr>\n",
              "    <tr>\n",
              "      <th>443</th>\n",
              "      <td>Worcester</td>\n",
              "      <td>High School</td>\n",
              "      <td>2044.000000</td>\n",
              "      <td>NaN</td>\n",
              "      <td>0.000000</td>\n",
              "    </tr>\n",
              "    <tr>\n",
              "      <th>444</th>\n",
              "      <td>Worcester</td>\n",
              "      <td>Kindergarten</td>\n",
              "      <td>142.833333</td>\n",
              "      <td>94.000000</td>\n",
              "      <td>0.086783</td>\n",
              "    </tr>\n",
              "    <tr>\n",
              "      <th>445</th>\n",
              "      <td>Worcester</td>\n",
              "      <td>Middle School</td>\n",
              "      <td>1500.000000</td>\n",
              "      <td>NaN</td>\n",
              "      <td>0.000000</td>\n",
              "    </tr>\n",
              "    <tr>\n",
              "      <th>446</th>\n",
              "      <td>Worcester</td>\n",
              "      <td>Prekindergarten</td>\n",
              "      <td>133.666667</td>\n",
              "      <td>86.200000</td>\n",
              "      <td>0.067908</td>\n",
              "    </tr>\n",
              "    <tr>\n",
              "      <th>447</th>\n",
              "      <td>Worcester</td>\n",
              "      <td>Total Enrollment</td>\n",
              "      <td>997.692308</td>\n",
              "      <td>1006.000000</td>\n",
              "      <td>0.011003</td>\n",
              "    </tr>\n",
              "  </tbody>\n",
              "</table>\n",
              "</div>"
            ],
            "text/plain": [
              "      LSS Name             Grade  ... Enrolled Count 2020 pct_change\n",
              "                                  ...                mean       mean\n",
              "438  Worcester           Grade 5  ...          169.333333   0.042335\n",
              "439  Worcester           Grade 6  ...          168.000000   0.063291\n",
              "440  Worcester           Grade 7  ...           75.000000  -0.002038\n",
              "441  Worcester           Grade 8  ...           79.000000  -0.070673\n",
              "442  Worcester           Grade 9  ...          181.000000   0.096277\n",
              "443  Worcester       High School  ...                 NaN   0.000000\n",
              "444  Worcester      Kindergarten  ...           94.000000   0.086783\n",
              "445  Worcester     Middle School  ...                 NaN   0.000000\n",
              "446  Worcester   Prekindergarten  ...           86.200000   0.067908\n",
              "447  Worcester  Total Enrollment  ...         1006.000000   0.011003\n",
              "\n",
              "[10 rows x 5 columns]"
            ]
          },
          "metadata": {
            "tags": []
          },
          "execution_count": 208
        }
      ]
    },
    {
      "cell_type": "markdown",
      "metadata": {
        "id": "z0ZpGimX81M8"
      },
      "source": [
        "## Additive aggregation calculations"
      ]
    },
    {
      "cell_type": "code",
      "metadata": {
        "id": "qczlmKh8-AMj"
      },
      "source": [
        "# new df that removes all public schools\n",
        "df_merge = df_19_20_merge[df_19_20_merge[\"LSS Name\"] != \"All Public Schools\"]"
      ],
      "execution_count": 213,
      "outputs": []
    },
    {
      "cell_type": "code",
      "metadata": {
        "id": "mfz6e9X6-gd1",
        "outputId": "f700d2aa-d183-4522-f490-a26c1f93ca84",
        "colab": {
          "base_uri": "https://localhost:8080/"
        }
      },
      "source": [
        "# new df that removes SEED schools\n",
        "df_merge = df_merge[df_19_20_merge[\"LSS Name\"] != \"SEED\"]"
      ],
      "execution_count": 218,
      "outputs": [
        {
          "output_type": "stream",
          "text": [
            "/usr/local/lib/python3.6/dist-packages/ipykernel_launcher.py:2: UserWarning: Boolean Series key will be reindexed to match DataFrame index.\n",
            "  \n"
          ],
          "name": "stderr"
        }
      ]
    },
    {
      "cell_type": "code",
      "metadata": {
        "id": "Mt4bNS5q_ELj",
        "outputId": "6d7df482-df28-40ff-c840-6cae3422ae41",
        "colab": {
          "base_uri": "https://localhost:8080/"
        }
      },
      "source": [
        "# new df that removes school number A\n",
        "df_merge = df_merge[df_19_20_merge[\"School Number\"] != \"A\"]"
      ],
      "execution_count": 227,
      "outputs": [
        {
          "output_type": "stream",
          "text": [
            "/usr/local/lib/python3.6/dist-packages/ipykernel_launcher.py:2: UserWarning: Boolean Series key will be reindexed to match DataFrame index.\n",
            "  \n"
          ],
          "name": "stderr"
        }
      ]
    },
    {
      "cell_type": "code",
      "metadata": {
        "id": "F4ePXX9A-LuV",
        "outputId": "603dc602-a10c-484e-cf44-4ce69bb8e7e2",
        "colab": {
          "base_uri": "https://localhost:8080/"
        }
      },
      "source": [
        "# check values in the merged dataframe\n",
        "df_merge[\"LSS Name\"].unique()"
      ],
      "execution_count": 219,
      "outputs": [
        {
          "output_type": "execute_result",
          "data": {
            "text/plain": [
              "array(['Allegany', 'Anne Arundel', 'Baltimore County', 'Calvert',\n",
              "       'Caroline', 'Carroll', 'Cecil', 'Charles', 'Dorchester',\n",
              "       'Frederick', 'Garrett', 'Harford', 'Howard', 'Kent', 'Montgomery',\n",
              "       \"Prince George's\", \"Queen Anne's\", \"Saint Mary's\", 'Somerset',\n",
              "       'Talbot', 'Washington', 'Wicomico', 'Worcester', 'Baltimore City'],\n",
              "      dtype=object)"
            ]
          },
          "metadata": {
            "tags": []
          },
          "execution_count": 219
        }
      ]
    },
    {
      "cell_type": "code",
      "metadata": {
        "id": "nmdcdQat7gtr"
      },
      "source": [
        "# add a new column in df that is the average enrolled count 2019 of a grade\n",
        "df_merge[\"avg_grade_count_2019\"] = df_merge.groupby(\"Grade\")[\"Enrolled Count 2019\"].transform(\"mean\")"
      ],
      "execution_count": 228,
      "outputs": []
    },
    {
      "cell_type": "code",
      "metadata": {
        "id": "0N3f6ygn9vhg",
        "outputId": "251ecaeb-bdd5-4ef4-c03d-eb587a21ed9f",
        "colab": {
          "base_uri": "https://localhost:8080/",
          "height": 546
        }
      },
      "source": [
        "# preview df\n",
        "df_merge.tail(10)"
      ],
      "execution_count": 229,
      "outputs": [
        {
          "output_type": "execute_result",
          "data": {
            "text/html": [
              "<div>\n",
              "<style scoped>\n",
              "    .dataframe tbody tr th:only-of-type {\n",
              "        vertical-align: middle;\n",
              "    }\n",
              "\n",
              "    .dataframe tbody tr th {\n",
              "        vertical-align: top;\n",
              "    }\n",
              "\n",
              "    .dataframe thead th {\n",
              "        text-align: right;\n",
              "    }\n",
              "</style>\n",
              "<table border=\"1\" class=\"dataframe\">\n",
              "  <thead>\n",
              "    <tr style=\"text-align: right;\">\n",
              "      <th></th>\n",
              "      <th>school_id</th>\n",
              "      <th>Academic Year</th>\n",
              "      <th>LSS Number</th>\n",
              "      <th>LSS Name</th>\n",
              "      <th>School Number</th>\n",
              "      <th>School Name</th>\n",
              "      <th>Grade</th>\n",
              "      <th>Enrolled Count 2019</th>\n",
              "      <th>Enrolled Count 2020</th>\n",
              "      <th>grade_school_id</th>\n",
              "      <th>pct_change</th>\n",
              "      <th>School Type</th>\n",
              "      <th>avg_grade_count_2019</th>\n",
              "    </tr>\n",
              "  </thead>\n",
              "  <tbody>\n",
              "    <tr>\n",
              "      <th>12856</th>\n",
              "      <td>300454</td>\n",
              "      <td>2019</td>\n",
              "      <td>30</td>\n",
              "      <td>Baltimore City</td>\n",
              "      <td>0454</td>\n",
              "      <td>Carver Vocational-Technical High</td>\n",
              "      <td>Grade 12</td>\n",
              "      <td>158</td>\n",
              "      <td>151.0</td>\n",
              "      <td>Grade 12Carver Vocational-Technical High</td>\n",
              "      <td>-0.044304</td>\n",
              "      <td>High</td>\n",
              "      <td>245.958159</td>\n",
              "    </tr>\n",
              "    <tr>\n",
              "      <th>12857</th>\n",
              "      <td>300454</td>\n",
              "      <td>2019</td>\n",
              "      <td>30</td>\n",
              "      <td>Baltimore City</td>\n",
              "      <td>0454</td>\n",
              "      <td>Carver Vocational-Technical High</td>\n",
              "      <td>Total Enrollment</td>\n",
              "      <td>876</td>\n",
              "      <td>885.0</td>\n",
              "      <td>Total EnrollmentCarver Vocational-Technical High</td>\n",
              "      <td>0.010274</td>\n",
              "      <td>High</td>\n",
              "      <td>647.964784</td>\n",
              "    </tr>\n",
              "    <tr>\n",
              "      <th>12858</th>\n",
              "      <td>300480</td>\n",
              "      <td>2019</td>\n",
              "      <td>30</td>\n",
              "      <td>Baltimore City</td>\n",
              "      <td>0480</td>\n",
              "      <td>Baltimore City College</td>\n",
              "      <td>Grade 9</td>\n",
              "      <td>424</td>\n",
              "      <td>434.0</td>\n",
              "      <td>Grade 9Baltimore City College</td>\n",
              "      <td>0.023585</td>\n",
              "      <td>High</td>\n",
              "      <td>317.057269</td>\n",
              "    </tr>\n",
              "    <tr>\n",
              "      <th>12859</th>\n",
              "      <td>300480</td>\n",
              "      <td>2019</td>\n",
              "      <td>30</td>\n",
              "      <td>Baltimore City</td>\n",
              "      <td>0480</td>\n",
              "      <td>Baltimore City College</td>\n",
              "      <td>Grade 10</td>\n",
              "      <td>330</td>\n",
              "      <td>349.0</td>\n",
              "      <td>Grade 10Baltimore City College</td>\n",
              "      <td>0.057576</td>\n",
              "      <td>High</td>\n",
              "      <td>295.648889</td>\n",
              "    </tr>\n",
              "    <tr>\n",
              "      <th>12860</th>\n",
              "      <td>300480</td>\n",
              "      <td>2019</td>\n",
              "      <td>30</td>\n",
              "      <td>Baltimore City</td>\n",
              "      <td>0480</td>\n",
              "      <td>Baltimore City College</td>\n",
              "      <td>Grade 11</td>\n",
              "      <td>310</td>\n",
              "      <td>314.0</td>\n",
              "      <td>Grade 11Baltimore City College</td>\n",
              "      <td>0.012903</td>\n",
              "      <td>High</td>\n",
              "      <td>269.532751</td>\n",
              "    </tr>\n",
              "    <tr>\n",
              "      <th>12861</th>\n",
              "      <td>300480</td>\n",
              "      <td>2019</td>\n",
              "      <td>30</td>\n",
              "      <td>Baltimore City</td>\n",
              "      <td>0480</td>\n",
              "      <td>Baltimore City College</td>\n",
              "      <td>Grade 12</td>\n",
              "      <td>299</td>\n",
              "      <td>305.0</td>\n",
              "      <td>Grade 12Baltimore City College</td>\n",
              "      <td>0.020067</td>\n",
              "      <td>High</td>\n",
              "      <td>245.958159</td>\n",
              "    </tr>\n",
              "    <tr>\n",
              "      <th>12862</th>\n",
              "      <td>300480</td>\n",
              "      <td>2019</td>\n",
              "      <td>30</td>\n",
              "      <td>Baltimore City</td>\n",
              "      <td>0480</td>\n",
              "      <td>Baltimore City College</td>\n",
              "      <td>Total Enrollment</td>\n",
              "      <td>1363</td>\n",
              "      <td>1402.0</td>\n",
              "      <td>Total EnrollmentBaltimore City College</td>\n",
              "      <td>0.028613</td>\n",
              "      <td>High</td>\n",
              "      <td>647.964784</td>\n",
              "    </tr>\n",
              "    <tr>\n",
              "      <th>12863</th>\n",
              "      <td>300884</td>\n",
              "      <td>2019</td>\n",
              "      <td>30</td>\n",
              "      <td>Baltimore City</td>\n",
              "      <td>0884</td>\n",
              "      <td>Eager Street Academy</td>\n",
              "      <td>Grade 9</td>\n",
              "      <td>14</td>\n",
              "      <td>19.0</td>\n",
              "      <td>Grade 9Eager Street Academy</td>\n",
              "      <td>0.357143</td>\n",
              "      <td>High</td>\n",
              "      <td>317.057269</td>\n",
              "    </tr>\n",
              "    <tr>\n",
              "      <th>12864</th>\n",
              "      <td>300884</td>\n",
              "      <td>2019</td>\n",
              "      <td>30</td>\n",
              "      <td>Baltimore City</td>\n",
              "      <td>0884</td>\n",
              "      <td>Eager Street Academy</td>\n",
              "      <td>Grade 10</td>\n",
              "      <td>11</td>\n",
              "      <td>16.0</td>\n",
              "      <td>Grade 10Eager Street Academy</td>\n",
              "      <td>0.454545</td>\n",
              "      <td>High</td>\n",
              "      <td>295.648889</td>\n",
              "    </tr>\n",
              "    <tr>\n",
              "      <th>12865</th>\n",
              "      <td>300884</td>\n",
              "      <td>2019</td>\n",
              "      <td>30</td>\n",
              "      <td>Baltimore City</td>\n",
              "      <td>0884</td>\n",
              "      <td>Eager Street Academy</td>\n",
              "      <td>Total Enrollment</td>\n",
              "      <td>35</td>\n",
              "      <td>46.0</td>\n",
              "      <td>Total EnrollmentEager Street Academy</td>\n",
              "      <td>0.314286</td>\n",
              "      <td>High</td>\n",
              "      <td>647.964784</td>\n",
              "    </tr>\n",
              "  </tbody>\n",
              "</table>\n",
              "</div>"
            ],
            "text/plain": [
              "      school_id  Academic Year  ... School Type avg_grade_count_2019\n",
              "12856    300454           2019  ...        High           245.958159\n",
              "12857    300454           2019  ...        High           647.964784\n",
              "12858    300480           2019  ...        High           317.057269\n",
              "12859    300480           2019  ...        High           295.648889\n",
              "12860    300480           2019  ...        High           269.532751\n",
              "12861    300480           2019  ...        High           245.958159\n",
              "12862    300480           2019  ...        High           647.964784\n",
              "12863    300884           2019  ...        High           317.057269\n",
              "12864    300884           2019  ...        High           295.648889\n",
              "12865    300884           2019  ...        High           647.964784\n",
              "\n",
              "[10 rows x 13 columns]"
            ]
          },
          "metadata": {
            "tags": []
          },
          "execution_count": 229
        }
      ]
    },
    {
      "cell_type": "code",
      "metadata": {
        "id": "RlhoDhzF92YR"
      },
      "source": [
        ""
      ],
      "execution_count": null,
      "outputs": []
    }
  ]
}